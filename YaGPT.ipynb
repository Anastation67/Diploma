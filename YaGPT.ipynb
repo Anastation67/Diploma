{
  "nbformat": 4,
  "nbformat_minor": 0,
  "metadata": {
    "colab": {
      "provenance": [],
      "collapsed_sections": [
        "UxkFeS1l2w3I",
        "4ZNdUMiBP7_L",
        "lkL8SVtq7VxL",
        "zDJuXW57CGJm"
      ]
    },
    "kernelspec": {
      "name": "python3",
      "display_name": "Python 3"
    },
    "language_info": {
      "name": "python"
    }
  },
  "cells": [
    {
      "cell_type": "markdown",
      "source": [
        "# Model"
      ],
      "metadata": {
        "id": "YQ166JGD7jCg"
      }
    },
    {
      "cell_type": "code",
      "source": [
        "!pip install langchain\n",
        "!pip install unstructured\n",
        "!pip install unstructured[docx]\n",
        "\n",
        "!pip install embeddings\n",
        "!pip install yandex_chain\n",
        "\n",
        "!pip install lancedb\n",
        "\n",
        "!pip install prompts"
      ],
      "metadata": {
        "colab": {
          "base_uri": "https://localhost:8080/"
        },
        "id": "9cQVNolk9lj9",
        "outputId": "ed99068b-1e11-4534-892e-6ca7ae967bef"
      },
      "execution_count": null,
      "outputs": [
        {
          "output_type": "stream",
          "name": "stdout",
          "text": [
            "Collecting langchain\n",
            "  Downloading langchain-0.1.16-py3-none-any.whl (817 kB)\n",
            "\u001b[?25l     \u001b[90m━━━━━━━━━━━━━━━━━━━━━━━━━━━━━━━━━━━━━━━━\u001b[0m \u001b[32m0.0/817.7 kB\u001b[0m \u001b[31m?\u001b[0m eta \u001b[36m-:--:--\u001b[0m\r\u001b[2K     \u001b[91m━━━\u001b[0m\u001b[90m╺\u001b[0m\u001b[90m━━━━━━━━━━━━━━━━━━━━━━━━━━━━━━━━━━━━\u001b[0m \u001b[32m61.4/817.7 kB\u001b[0m \u001b[31m1.8 MB/s\u001b[0m eta \u001b[36m0:00:01\u001b[0m\r\u001b[2K     \u001b[91m━━━━━━━━━━━━━━━━━━━━━━━━━\u001b[0m\u001b[90m╺\u001b[0m\u001b[90m━━━━━━━━━━━━━━\u001b[0m \u001b[32m512.0/817.7 kB\u001b[0m \u001b[31m7.3 MB/s\u001b[0m eta \u001b[36m0:00:01\u001b[0m\r\u001b[2K     \u001b[90m━━━━━━━━━━━━━━━━━━━━━━━━━━━━━━━━━━━━━━━━\u001b[0m \u001b[32m817.7/817.7 kB\u001b[0m \u001b[31m8.7 MB/s\u001b[0m eta \u001b[36m0:00:00\u001b[0m\n",
            "\u001b[?25hRequirement already satisfied: PyYAML>=5.3 in /usr/local/lib/python3.10/dist-packages (from langchain) (6.0.1)\n",
            "Requirement already satisfied: SQLAlchemy<3,>=1.4 in /usr/local/lib/python3.10/dist-packages (from langchain) (2.0.29)\n",
            "Requirement already satisfied: aiohttp<4.0.0,>=3.8.3 in /usr/local/lib/python3.10/dist-packages (from langchain) (3.9.5)\n",
            "Requirement already satisfied: async-timeout<5.0.0,>=4.0.0 in /usr/local/lib/python3.10/dist-packages (from langchain) (4.0.3)\n",
            "Collecting dataclasses-json<0.7,>=0.5.7 (from langchain)\n",
            "  Downloading dataclasses_json-0.6.4-py3-none-any.whl (28 kB)\n",
            "Collecting jsonpatch<2.0,>=1.33 (from langchain)\n",
            "  Downloading jsonpatch-1.33-py2.py3-none-any.whl (12 kB)\n",
            "Collecting langchain-community<0.1,>=0.0.32 (from langchain)\n",
            "  Downloading langchain_community-0.0.34-py3-none-any.whl (1.9 MB)\n",
            "\u001b[2K     \u001b[90m━━━━━━━━━━━━━━━━━━━━━━━━━━━━━━━━━━━━━━━━\u001b[0m \u001b[32m1.9/1.9 MB\u001b[0m \u001b[31m30.5 MB/s\u001b[0m eta \u001b[36m0:00:00\u001b[0m\n",
            "\u001b[?25hCollecting langchain-core<0.2.0,>=0.1.42 (from langchain)\n",
            "  Downloading langchain_core-0.1.45-py3-none-any.whl (291 kB)\n",
            "\u001b[2K     \u001b[90m━━━━━━━━━━━━━━━━━━━━━━━━━━━━━━━━━━━━━━━━\u001b[0m \u001b[32m291.3/291.3 kB\u001b[0m \u001b[31m28.0 MB/s\u001b[0m eta \u001b[36m0:00:00\u001b[0m\n",
            "\u001b[?25hCollecting langchain-text-splitters<0.1,>=0.0.1 (from langchain)\n",
            "  Downloading langchain_text_splitters-0.0.1-py3-none-any.whl (21 kB)\n",
            "Collecting langsmith<0.2.0,>=0.1.17 (from langchain)\n",
            "  Downloading langsmith-0.1.50-py3-none-any.whl (115 kB)\n",
            "\u001b[2K     \u001b[90m━━━━━━━━━━━━━━━━━━━━━━━━━━━━━━━━━━━━━━━━\u001b[0m \u001b[32m115.5/115.5 kB\u001b[0m \u001b[31m14.2 MB/s\u001b[0m eta \u001b[36m0:00:00\u001b[0m\n",
            "\u001b[?25hRequirement already satisfied: numpy<2,>=1 in /usr/local/lib/python3.10/dist-packages (from langchain) (1.25.2)\n",
            "Requirement already satisfied: pydantic<3,>=1 in /usr/local/lib/python3.10/dist-packages (from langchain) (2.7.0)\n",
            "Requirement already satisfied: requests<3,>=2 in /usr/local/lib/python3.10/dist-packages (from langchain) (2.31.0)\n",
            "Requirement already satisfied: tenacity<9.0.0,>=8.1.0 in /usr/local/lib/python3.10/dist-packages (from langchain) (8.2.3)\n",
            "Requirement already satisfied: aiosignal>=1.1.2 in /usr/local/lib/python3.10/dist-packages (from aiohttp<4.0.0,>=3.8.3->langchain) (1.3.1)\n",
            "Requirement already satisfied: attrs>=17.3.0 in /usr/local/lib/python3.10/dist-packages (from aiohttp<4.0.0,>=3.8.3->langchain) (23.2.0)\n",
            "Requirement already satisfied: frozenlist>=1.1.1 in /usr/local/lib/python3.10/dist-packages (from aiohttp<4.0.0,>=3.8.3->langchain) (1.4.1)\n",
            "Requirement already satisfied: multidict<7.0,>=4.5 in /usr/local/lib/python3.10/dist-packages (from aiohttp<4.0.0,>=3.8.3->langchain) (6.0.5)\n",
            "Requirement already satisfied: yarl<2.0,>=1.0 in /usr/local/lib/python3.10/dist-packages (from aiohttp<4.0.0,>=3.8.3->langchain) (1.9.4)\n",
            "Collecting marshmallow<4.0.0,>=3.18.0 (from dataclasses-json<0.7,>=0.5.7->langchain)\n",
            "  Downloading marshmallow-3.21.1-py3-none-any.whl (49 kB)\n",
            "\u001b[2K     \u001b[90m━━━━━━━━━━━━━━━━━━━━━━━━━━━━━━━━━━━━━━━━\u001b[0m \u001b[32m49.4/49.4 kB\u001b[0m \u001b[31m5.7 MB/s\u001b[0m eta \u001b[36m0:00:00\u001b[0m\n",
            "\u001b[?25hCollecting typing-inspect<1,>=0.4.0 (from dataclasses-json<0.7,>=0.5.7->langchain)\n",
            "  Downloading typing_inspect-0.9.0-py3-none-any.whl (8.8 kB)\n",
            "Collecting jsonpointer>=1.9 (from jsonpatch<2.0,>=1.33->langchain)\n",
            "  Downloading jsonpointer-2.4-py2.py3-none-any.whl (7.8 kB)\n",
            "Collecting packaging<24.0,>=23.2 (from langchain-core<0.2.0,>=0.1.42->langchain)\n",
            "  Downloading packaging-23.2-py3-none-any.whl (53 kB)\n",
            "\u001b[2K     \u001b[90m━━━━━━━━━━━━━━━━━━━━━━━━━━━━━━━━━━━━━━━━\u001b[0m \u001b[32m53.0/53.0 kB\u001b[0m \u001b[31m8.1 MB/s\u001b[0m eta \u001b[36m0:00:00\u001b[0m\n",
            "\u001b[?25hCollecting orjson<4.0.0,>=3.9.14 (from langsmith<0.2.0,>=0.1.17->langchain)\n",
            "  Downloading orjson-3.10.1-cp310-cp310-manylinux_2_17_x86_64.manylinux2014_x86_64.whl (141 kB)\n",
            "\u001b[2K     \u001b[90m━━━━━━━━━━━━━━━━━━━━━━━━━━━━━━━━━━━━━━━━\u001b[0m \u001b[32m141.1/141.1 kB\u001b[0m \u001b[31m19.4 MB/s\u001b[0m eta \u001b[36m0:00:00\u001b[0m\n",
            "\u001b[?25hRequirement already satisfied: annotated-types>=0.4.0 in /usr/local/lib/python3.10/dist-packages (from pydantic<3,>=1->langchain) (0.6.0)\n",
            "Requirement already satisfied: pydantic-core==2.18.1 in /usr/local/lib/python3.10/dist-packages (from pydantic<3,>=1->langchain) (2.18.1)\n",
            "Requirement already satisfied: typing-extensions>=4.6.1 in /usr/local/lib/python3.10/dist-packages (from pydantic<3,>=1->langchain) (4.11.0)\n",
            "Requirement already satisfied: charset-normalizer<4,>=2 in /usr/local/lib/python3.10/dist-packages (from requests<3,>=2->langchain) (3.3.2)\n",
            "Requirement already satisfied: idna<4,>=2.5 in /usr/local/lib/python3.10/dist-packages (from requests<3,>=2->langchain) (3.7)\n",
            "Requirement already satisfied: urllib3<3,>=1.21.1 in /usr/local/lib/python3.10/dist-packages (from requests<3,>=2->langchain) (2.0.7)\n",
            "Requirement already satisfied: certifi>=2017.4.17 in /usr/local/lib/python3.10/dist-packages (from requests<3,>=2->langchain) (2024.2.2)\n",
            "Requirement already satisfied: greenlet!=0.4.17 in /usr/local/lib/python3.10/dist-packages (from SQLAlchemy<3,>=1.4->langchain) (3.0.3)\n",
            "Collecting mypy-extensions>=0.3.0 (from typing-inspect<1,>=0.4.0->dataclasses-json<0.7,>=0.5.7->langchain)\n",
            "  Downloading mypy_extensions-1.0.0-py3-none-any.whl (4.7 kB)\n",
            "Installing collected packages: packaging, orjson, mypy-extensions, jsonpointer, typing-inspect, marshmallow, jsonpatch, langsmith, dataclasses-json, langchain-core, langchain-text-splitters, langchain-community, langchain\n",
            "  Attempting uninstall: packaging\n",
            "    Found existing installation: packaging 24.0\n",
            "    Uninstalling packaging-24.0:\n",
            "      Successfully uninstalled packaging-24.0\n",
            "Successfully installed dataclasses-json-0.6.4 jsonpatch-1.33 jsonpointer-2.4 langchain-0.1.16 langchain-community-0.0.34 langchain-core-0.1.45 langchain-text-splitters-0.0.1 langsmith-0.1.50 marshmallow-3.21.1 mypy-extensions-1.0.0 orjson-3.10.1 packaging-23.2 typing-inspect-0.9.0\n",
            "Collecting unstructured\n",
            "  Downloading unstructured-0.13.3-py3-none-any.whl (1.9 MB)\n",
            "\u001b[2K     \u001b[90m━━━━━━━━━━━━━━━━━━━━━━━━━━━━━━━━━━━━━━━━\u001b[0m \u001b[32m1.9/1.9 MB\u001b[0m \u001b[31m9.1 MB/s\u001b[0m eta \u001b[36m0:00:00\u001b[0m\n",
            "\u001b[?25hRequirement already satisfied: chardet in /usr/local/lib/python3.10/dist-packages (from unstructured) (5.2.0)\n",
            "Collecting filetype (from unstructured)\n",
            "  Downloading filetype-1.2.0-py2.py3-none-any.whl (19 kB)\n",
            "Collecting python-magic (from unstructured)\n",
            "  Downloading python_magic-0.4.27-py2.py3-none-any.whl (13 kB)\n",
            "Requirement already satisfied: lxml in /usr/local/lib/python3.10/dist-packages (from unstructured) (4.9.4)\n",
            "Requirement already satisfied: nltk in /usr/local/lib/python3.10/dist-packages (from unstructured) (3.8.1)\n",
            "Requirement already satisfied: tabulate in /usr/local/lib/python3.10/dist-packages (from unstructured) (0.9.0)\n",
            "Requirement already satisfied: requests in /usr/local/lib/python3.10/dist-packages (from unstructured) (2.31.0)\n",
            "Requirement already satisfied: beautifulsoup4 in /usr/local/lib/python3.10/dist-packages (from unstructured) (4.12.3)\n",
            "Collecting emoji (from unstructured)\n",
            "  Downloading emoji-2.11.1-py2.py3-none-any.whl (433 kB)\n",
            "\u001b[2K     \u001b[90m━━━━━━━━━━━━━━━━━━━━━━━━━━━━━━━━━━━━━━━━\u001b[0m \u001b[32m433.8/433.8 kB\u001b[0m \u001b[31m11.9 MB/s\u001b[0m eta \u001b[36m0:00:00\u001b[0m\n",
            "\u001b[?25hRequirement already satisfied: dataclasses-json in /usr/local/lib/python3.10/dist-packages (from unstructured) (0.6.4)\n",
            "Collecting python-iso639 (from unstructured)\n",
            "  Downloading python_iso639-2024.2.7-py3-none-any.whl (274 kB)\n",
            "\u001b[2K     \u001b[90m━━━━━━━━━━━━━━━━━━━━━━━━━━━━━━━━━━━━━━━━\u001b[0m \u001b[32m274.7/274.7 kB\u001b[0m \u001b[31m11.8 MB/s\u001b[0m eta \u001b[36m0:00:00\u001b[0m\n",
            "\u001b[?25hCollecting langdetect (from unstructured)\n",
            "  Downloading langdetect-1.0.9.tar.gz (981 kB)\n",
            "\u001b[2K     \u001b[90m━━━━━━━━━━━━━━━━━━━━━━━━━━━━━━━━━━━━━━━━\u001b[0m \u001b[32m981.5/981.5 kB\u001b[0m \u001b[31m14.2 MB/s\u001b[0m eta \u001b[36m0:00:00\u001b[0m\n",
            "\u001b[?25h  Preparing metadata (setup.py) ... \u001b[?25l\u001b[?25hdone\n",
            "Requirement already satisfied: numpy in /usr/local/lib/python3.10/dist-packages (from unstructured) (1.25.2)\n",
            "Collecting rapidfuzz (from unstructured)\n",
            "  Downloading rapidfuzz-3.8.1-cp310-cp310-manylinux_2_17_x86_64.manylinux2014_x86_64.whl (3.4 MB)\n",
            "\u001b[2K     \u001b[90m━━━━━━━━━━━━━━━━━━━━━━━━━━━━━━━━━━━━━━━━\u001b[0m \u001b[32m3.4/3.4 MB\u001b[0m \u001b[31m17.9 MB/s\u001b[0m eta \u001b[36m0:00:00\u001b[0m\n",
            "\u001b[?25hCollecting backoff (from unstructured)\n",
            "  Downloading backoff-2.2.1-py3-none-any.whl (15 kB)\n",
            "Requirement already satisfied: typing-extensions in /usr/local/lib/python3.10/dist-packages (from unstructured) (4.11.0)\n",
            "Collecting unstructured-client (from unstructured)\n",
            "  Downloading unstructured_client-0.22.0-py3-none-any.whl (28 kB)\n",
            "Requirement already satisfied: wrapt in /usr/local/lib/python3.10/dist-packages (from unstructured) (1.14.1)\n",
            "Requirement already satisfied: soupsieve>1.2 in /usr/local/lib/python3.10/dist-packages (from beautifulsoup4->unstructured) (2.5)\n",
            "Requirement already satisfied: marshmallow<4.0.0,>=3.18.0 in /usr/local/lib/python3.10/dist-packages (from dataclasses-json->unstructured) (3.21.1)\n",
            "Requirement already satisfied: typing-inspect<1,>=0.4.0 in /usr/local/lib/python3.10/dist-packages (from dataclasses-json->unstructured) (0.9.0)\n",
            "Requirement already satisfied: six in /usr/local/lib/python3.10/dist-packages (from langdetect->unstructured) (1.16.0)\n",
            "Requirement already satisfied: click in /usr/local/lib/python3.10/dist-packages (from nltk->unstructured) (8.1.7)\n",
            "Requirement already satisfied: joblib in /usr/local/lib/python3.10/dist-packages (from nltk->unstructured) (1.4.0)\n",
            "Requirement already satisfied: regex>=2021.8.3 in /usr/local/lib/python3.10/dist-packages (from nltk->unstructured) (2023.12.25)\n",
            "Requirement already satisfied: tqdm in /usr/local/lib/python3.10/dist-packages (from nltk->unstructured) (4.66.2)\n",
            "Requirement already satisfied: charset-normalizer<4,>=2 in /usr/local/lib/python3.10/dist-packages (from requests->unstructured) (3.3.2)\n",
            "Requirement already satisfied: idna<4,>=2.5 in /usr/local/lib/python3.10/dist-packages (from requests->unstructured) (3.7)\n",
            "Requirement already satisfied: urllib3<3,>=1.21.1 in /usr/local/lib/python3.10/dist-packages (from requests->unstructured) (2.0.7)\n",
            "Requirement already satisfied: certifi>=2017.4.17 in /usr/local/lib/python3.10/dist-packages (from requests->unstructured) (2024.2.2)\n",
            "Collecting deepdiff>=6.0 (from unstructured-client->unstructured)\n",
            "  Downloading deepdiff-7.0.1-py3-none-any.whl (80 kB)\n",
            "\u001b[2K     \u001b[90m━━━━━━━━━━━━━━━━━━━━━━━━━━━━━━━━━━━━━━━━\u001b[0m \u001b[32m80.8/80.8 kB\u001b[0m \u001b[31m12.1 MB/s\u001b[0m eta \u001b[36m0:00:00\u001b[0m\n",
            "\u001b[?25hCollecting jsonpath-python>=1.0.6 (from unstructured-client->unstructured)\n",
            "  Downloading jsonpath_python-1.0.6-py3-none-any.whl (7.6 kB)\n",
            "Requirement already satisfied: mypy-extensions>=1.0.0 in /usr/local/lib/python3.10/dist-packages (from unstructured-client->unstructured) (1.0.0)\n",
            "Requirement already satisfied: packaging>=23.1 in /usr/local/lib/python3.10/dist-packages (from unstructured-client->unstructured) (23.2)\n",
            "Collecting pypdf>=4.0 (from unstructured-client->unstructured)\n",
            "  Downloading pypdf-4.2.0-py3-none-any.whl (290 kB)\n",
            "\u001b[2K     \u001b[90m━━━━━━━━━━━━━━━━━━━━━━━━━━━━━━━━━━━━━━━━\u001b[0m \u001b[32m290.4/290.4 kB\u001b[0m \u001b[31m31.1 MB/s\u001b[0m eta \u001b[36m0:00:00\u001b[0m\n",
            "\u001b[?25hRequirement already satisfied: python-dateutil>=2.8.2 in /usr/local/lib/python3.10/dist-packages (from unstructured-client->unstructured) (2.8.2)\n",
            "Collecting ordered-set<4.2.0,>=4.1.0 (from deepdiff>=6.0->unstructured-client->unstructured)\n",
            "  Downloading ordered_set-4.1.0-py3-none-any.whl (7.6 kB)\n",
            "Building wheels for collected packages: langdetect\n",
            "  Building wheel for langdetect (setup.py) ... \u001b[?25l\u001b[?25hdone\n",
            "  Created wheel for langdetect: filename=langdetect-1.0.9-py3-none-any.whl size=993227 sha256=a1cb08fd8d8a172fe4074efbf5b30cb3899df64ceb2ff4e3b0ee5792ef86b18c\n",
            "  Stored in directory: /root/.cache/pip/wheels/95/03/7d/59ea870c70ce4e5a370638b5462a7711ab78fba2f655d05106\n",
            "Successfully built langdetect\n",
            "Installing collected packages: filetype, rapidfuzz, python-magic, python-iso639, pypdf, ordered-set, langdetect, jsonpath-python, emoji, backoff, deepdiff, unstructured-client, unstructured\n",
            "Successfully installed backoff-2.2.1 deepdiff-7.0.1 emoji-2.11.1 filetype-1.2.0 jsonpath-python-1.0.6 langdetect-1.0.9 ordered-set-4.1.0 pypdf-4.2.0 python-iso639-2024.2.7 python-magic-0.4.27 rapidfuzz-3.8.1 unstructured-0.13.3 unstructured-client-0.22.0\n",
            "Requirement already satisfied: unstructured[docx] in /usr/local/lib/python3.10/dist-packages (0.13.3)\n",
            "Requirement already satisfied: chardet in /usr/local/lib/python3.10/dist-packages (from unstructured[docx]) (5.2.0)\n",
            "Requirement already satisfied: filetype in /usr/local/lib/python3.10/dist-packages (from unstructured[docx]) (1.2.0)\n",
            "Requirement already satisfied: python-magic in /usr/local/lib/python3.10/dist-packages (from unstructured[docx]) (0.4.27)\n",
            "Requirement already satisfied: lxml in /usr/local/lib/python3.10/dist-packages (from unstructured[docx]) (4.9.4)\n",
            "Requirement already satisfied: nltk in /usr/local/lib/python3.10/dist-packages (from unstructured[docx]) (3.8.1)\n",
            "Requirement already satisfied: tabulate in /usr/local/lib/python3.10/dist-packages (from unstructured[docx]) (0.9.0)\n",
            "Requirement already satisfied: requests in /usr/local/lib/python3.10/dist-packages (from unstructured[docx]) (2.31.0)\n",
            "Requirement already satisfied: beautifulsoup4 in /usr/local/lib/python3.10/dist-packages (from unstructured[docx]) (4.12.3)\n",
            "Requirement already satisfied: emoji in /usr/local/lib/python3.10/dist-packages (from unstructured[docx]) (2.11.1)\n",
            "Requirement already satisfied: dataclasses-json in /usr/local/lib/python3.10/dist-packages (from unstructured[docx]) (0.6.4)\n",
            "Requirement already satisfied: python-iso639 in /usr/local/lib/python3.10/dist-packages (from unstructured[docx]) (2024.2.7)\n",
            "Requirement already satisfied: langdetect in /usr/local/lib/python3.10/dist-packages (from unstructured[docx]) (1.0.9)\n",
            "Requirement already satisfied: numpy in /usr/local/lib/python3.10/dist-packages (from unstructured[docx]) (1.25.2)\n",
            "Requirement already satisfied: rapidfuzz in /usr/local/lib/python3.10/dist-packages (from unstructured[docx]) (3.8.1)\n",
            "Requirement already satisfied: backoff in /usr/local/lib/python3.10/dist-packages (from unstructured[docx]) (2.2.1)\n",
            "Requirement already satisfied: typing-extensions in /usr/local/lib/python3.10/dist-packages (from unstructured[docx]) (4.11.0)\n",
            "Requirement already satisfied: unstructured-client in /usr/local/lib/python3.10/dist-packages (from unstructured[docx]) (0.22.0)\n",
            "Requirement already satisfied: wrapt in /usr/local/lib/python3.10/dist-packages (from unstructured[docx]) (1.14.1)\n",
            "Collecting python-docx (from unstructured[docx])\n",
            "  Downloading python_docx-1.1.0-py3-none-any.whl (239 kB)\n",
            "\u001b[2K     \u001b[90m━━━━━━━━━━━━━━━━━━━━━━━━━━━━━━━━━━━━━━━━\u001b[0m \u001b[32m239.6/239.6 kB\u001b[0m \u001b[31m4.3 MB/s\u001b[0m eta \u001b[36m0:00:00\u001b[0m\n",
            "\u001b[?25hRequirement already satisfied: soupsieve>1.2 in /usr/local/lib/python3.10/dist-packages (from beautifulsoup4->unstructured[docx]) (2.5)\n",
            "Requirement already satisfied: marshmallow<4.0.0,>=3.18.0 in /usr/local/lib/python3.10/dist-packages (from dataclasses-json->unstructured[docx]) (3.21.1)\n",
            "Requirement already satisfied: typing-inspect<1,>=0.4.0 in /usr/local/lib/python3.10/dist-packages (from dataclasses-json->unstructured[docx]) (0.9.0)\n",
            "Requirement already satisfied: six in /usr/local/lib/python3.10/dist-packages (from langdetect->unstructured[docx]) (1.16.0)\n",
            "Requirement already satisfied: click in /usr/local/lib/python3.10/dist-packages (from nltk->unstructured[docx]) (8.1.7)\n",
            "Requirement already satisfied: joblib in /usr/local/lib/python3.10/dist-packages (from nltk->unstructured[docx]) (1.4.0)\n",
            "Requirement already satisfied: regex>=2021.8.3 in /usr/local/lib/python3.10/dist-packages (from nltk->unstructured[docx]) (2023.12.25)\n",
            "Requirement already satisfied: tqdm in /usr/local/lib/python3.10/dist-packages (from nltk->unstructured[docx]) (4.66.2)\n",
            "Requirement already satisfied: charset-normalizer<4,>=2 in /usr/local/lib/python3.10/dist-packages (from requests->unstructured[docx]) (3.3.2)\n",
            "Requirement already satisfied: idna<4,>=2.5 in /usr/local/lib/python3.10/dist-packages (from requests->unstructured[docx]) (3.7)\n",
            "Requirement already satisfied: urllib3<3,>=1.21.1 in /usr/local/lib/python3.10/dist-packages (from requests->unstructured[docx]) (2.0.7)\n",
            "Requirement already satisfied: certifi>=2017.4.17 in /usr/local/lib/python3.10/dist-packages (from requests->unstructured[docx]) (2024.2.2)\n",
            "Requirement already satisfied: deepdiff>=6.0 in /usr/local/lib/python3.10/dist-packages (from unstructured-client->unstructured[docx]) (7.0.1)\n",
            "Requirement already satisfied: jsonpath-python>=1.0.6 in /usr/local/lib/python3.10/dist-packages (from unstructured-client->unstructured[docx]) (1.0.6)\n",
            "Requirement already satisfied: mypy-extensions>=1.0.0 in /usr/local/lib/python3.10/dist-packages (from unstructured-client->unstructured[docx]) (1.0.0)\n",
            "Requirement already satisfied: packaging>=23.1 in /usr/local/lib/python3.10/dist-packages (from unstructured-client->unstructured[docx]) (23.2)\n",
            "Requirement already satisfied: pypdf>=4.0 in /usr/local/lib/python3.10/dist-packages (from unstructured-client->unstructured[docx]) (4.2.0)\n",
            "Requirement already satisfied: python-dateutil>=2.8.2 in /usr/local/lib/python3.10/dist-packages (from unstructured-client->unstructured[docx]) (2.8.2)\n",
            "Requirement already satisfied: ordered-set<4.2.0,>=4.1.0 in /usr/local/lib/python3.10/dist-packages (from deepdiff>=6.0->unstructured-client->unstructured[docx]) (4.1.0)\n",
            "Installing collected packages: python-docx\n",
            "Successfully installed python-docx-1.1.0\n",
            "Collecting embeddings\n",
            "  Downloading embeddings-0.0.8-py3-none-any.whl (12 kB)\n",
            "Requirement already satisfied: tqdm in /usr/local/lib/python3.10/dist-packages (from embeddings) (4.66.2)\n",
            "Requirement already satisfied: requests in /usr/local/lib/python3.10/dist-packages (from embeddings) (2.31.0)\n",
            "Requirement already satisfied: numpy in /usr/local/lib/python3.10/dist-packages (from embeddings) (1.25.2)\n",
            "Requirement already satisfied: charset-normalizer<4,>=2 in /usr/local/lib/python3.10/dist-packages (from requests->embeddings) (3.3.2)\n",
            "Requirement already satisfied: idna<4,>=2.5 in /usr/local/lib/python3.10/dist-packages (from requests->embeddings) (3.7)\n",
            "Requirement already satisfied: urllib3<3,>=1.21.1 in /usr/local/lib/python3.10/dist-packages (from requests->embeddings) (2.0.7)\n",
            "Requirement already satisfied: certifi>=2017.4.17 in /usr/local/lib/python3.10/dist-packages (from requests->embeddings) (2024.2.2)\n",
            "Installing collected packages: embeddings\n",
            "Successfully installed embeddings-0.0.8\n",
            "Collecting yandex_chain\n",
            "  Downloading yandex-chain-0.0.6.tar.gz (8.2 kB)\n",
            "  Preparing metadata (setup.py) ... \u001b[?25l\u001b[?25hdone\n",
            "Requirement already satisfied: requests in /usr/local/lib/python3.10/dist-packages (from yandex_chain) (2.31.0)\n",
            "Collecting langchain==0.1.0 (from yandex_chain)\n",
            "  Downloading langchain-0.1.0-py3-none-any.whl (797 kB)\n",
            "\u001b[2K     \u001b[90m━━━━━━━━━━━━━━━━━━━━━━━━━━━━━━━━━━━━━━━━\u001b[0m \u001b[32m798.0/798.0 kB\u001b[0m \u001b[31m4.7 MB/s\u001b[0m eta \u001b[36m0:00:00\u001b[0m\n",
            "\u001b[?25hRequirement already satisfied: tenacity in /usr/local/lib/python3.10/dist-packages (from yandex_chain) (8.2.3)\n",
            "Requirement already satisfied: PyYAML>=5.3 in /usr/local/lib/python3.10/dist-packages (from langchain==0.1.0->yandex_chain) (6.0.1)\n",
            "Requirement already satisfied: SQLAlchemy<3,>=1.4 in /usr/local/lib/python3.10/dist-packages (from langchain==0.1.0->yandex_chain) (2.0.29)\n",
            "Requirement already satisfied: aiohttp<4.0.0,>=3.8.3 in /usr/local/lib/python3.10/dist-packages (from langchain==0.1.0->yandex_chain) (3.9.5)\n",
            "Requirement already satisfied: async-timeout<5.0.0,>=4.0.0 in /usr/local/lib/python3.10/dist-packages (from langchain==0.1.0->yandex_chain) (4.0.3)\n",
            "Requirement already satisfied: dataclasses-json<0.7,>=0.5.7 in /usr/local/lib/python3.10/dist-packages (from langchain==0.1.0->yandex_chain) (0.6.4)\n",
            "Requirement already satisfied: jsonpatch<2.0,>=1.33 in /usr/local/lib/python3.10/dist-packages (from langchain==0.1.0->yandex_chain) (1.33)\n",
            "Requirement already satisfied: langchain-community<0.1,>=0.0.9 in /usr/local/lib/python3.10/dist-packages (from langchain==0.1.0->yandex_chain) (0.0.34)\n",
            "Requirement already satisfied: langchain-core<0.2,>=0.1.7 in /usr/local/lib/python3.10/dist-packages (from langchain==0.1.0->yandex_chain) (0.1.45)\n",
            "Collecting langsmith<0.1.0,>=0.0.77 (from langchain==0.1.0->yandex_chain)\n",
            "  Downloading langsmith-0.0.92-py3-none-any.whl (56 kB)\n",
            "\u001b[2K     \u001b[90m━━━━━━━━━━━━━━━━━━━━━━━━━━━━━━━━━━━━━━━━\u001b[0m \u001b[32m56.5/56.5 kB\u001b[0m \u001b[31m6.7 MB/s\u001b[0m eta \u001b[36m0:00:00\u001b[0m\n",
            "\u001b[?25hRequirement already satisfied: numpy<2,>=1 in /usr/local/lib/python3.10/dist-packages (from langchain==0.1.0->yandex_chain) (1.25.2)\n",
            "Requirement already satisfied: pydantic<3,>=1 in /usr/local/lib/python3.10/dist-packages (from langchain==0.1.0->yandex_chain) (2.7.0)\n",
            "Requirement already satisfied: charset-normalizer<4,>=2 in /usr/local/lib/python3.10/dist-packages (from requests->yandex_chain) (3.3.2)\n",
            "Requirement already satisfied: idna<4,>=2.5 in /usr/local/lib/python3.10/dist-packages (from requests->yandex_chain) (3.7)\n",
            "Requirement already satisfied: urllib3<3,>=1.21.1 in /usr/local/lib/python3.10/dist-packages (from requests->yandex_chain) (2.0.7)\n",
            "Requirement already satisfied: certifi>=2017.4.17 in /usr/local/lib/python3.10/dist-packages (from requests->yandex_chain) (2024.2.2)\n",
            "Requirement already satisfied: aiosignal>=1.1.2 in /usr/local/lib/python3.10/dist-packages (from aiohttp<4.0.0,>=3.8.3->langchain==0.1.0->yandex_chain) (1.3.1)\n",
            "Requirement already satisfied: attrs>=17.3.0 in /usr/local/lib/python3.10/dist-packages (from aiohttp<4.0.0,>=3.8.3->langchain==0.1.0->yandex_chain) (23.2.0)\n",
            "Requirement already satisfied: frozenlist>=1.1.1 in /usr/local/lib/python3.10/dist-packages (from aiohttp<4.0.0,>=3.8.3->langchain==0.1.0->yandex_chain) (1.4.1)\n",
            "Requirement already satisfied: multidict<7.0,>=4.5 in /usr/local/lib/python3.10/dist-packages (from aiohttp<4.0.0,>=3.8.3->langchain==0.1.0->yandex_chain) (6.0.5)\n",
            "Requirement already satisfied: yarl<2.0,>=1.0 in /usr/local/lib/python3.10/dist-packages (from aiohttp<4.0.0,>=3.8.3->langchain==0.1.0->yandex_chain) (1.9.4)\n",
            "Requirement already satisfied: marshmallow<4.0.0,>=3.18.0 in /usr/local/lib/python3.10/dist-packages (from dataclasses-json<0.7,>=0.5.7->langchain==0.1.0->yandex_chain) (3.21.1)\n",
            "Requirement already satisfied: typing-inspect<1,>=0.4.0 in /usr/local/lib/python3.10/dist-packages (from dataclasses-json<0.7,>=0.5.7->langchain==0.1.0->yandex_chain) (0.9.0)\n",
            "Requirement already satisfied: jsonpointer>=1.9 in /usr/local/lib/python3.10/dist-packages (from jsonpatch<2.0,>=1.33->langchain==0.1.0->yandex_chain) (2.4)\n",
            "INFO: pip is looking at multiple versions of langchain-community to determine which version is compatible with other requirements. This could take a while.\n",
            "Collecting langchain-community<0.1,>=0.0.9 (from langchain==0.1.0->yandex_chain)\n",
            "  Downloading langchain_community-0.0.33-py3-none-any.whl (1.9 MB)\n",
            "\u001b[2K     \u001b[90m━━━━━━━━━━━━━━━━━━━━━━━━━━━━━━━━━━━━━━━━\u001b[0m \u001b[32m1.9/1.9 MB\u001b[0m \u001b[31m8.4 MB/s\u001b[0m eta \u001b[36m0:00:00\u001b[0m\n",
            "\u001b[?25h  Downloading langchain_community-0.0.32-py3-none-any.whl (1.9 MB)\n",
            "\u001b[2K     \u001b[90m━━━━━━━━━━━━━━━━━━━━━━━━━━━━━━━━━━━━━━━━\u001b[0m \u001b[32m1.9/1.9 MB\u001b[0m \u001b[31m12.7 MB/s\u001b[0m eta \u001b[36m0:00:00\u001b[0m\n",
            "\u001b[?25h  Downloading langchain_community-0.0.31-py3-none-any.whl (1.9 MB)\n",
            "\u001b[2K     \u001b[90m━━━━━━━━━━━━━━━━━━━━━━━━━━━━━━━━━━━━━━━━\u001b[0m \u001b[32m1.9/1.9 MB\u001b[0m \u001b[31m17.6 MB/s\u001b[0m eta \u001b[36m0:00:00\u001b[0m\n",
            "\u001b[?25h  Downloading langchain_community-0.0.30-py3-none-any.whl (1.9 MB)\n",
            "\u001b[2K     \u001b[90m━━━━━━━━━━━━━━━━━━━━━━━━━━━━━━━━━━━━━━━━\u001b[0m \u001b[32m1.9/1.9 MB\u001b[0m \u001b[31m20.0 MB/s\u001b[0m eta \u001b[36m0:00:00\u001b[0m\n",
            "\u001b[?25h  Downloading langchain_community-0.0.29-py3-none-any.whl (1.8 MB)\n",
            "\u001b[2K     \u001b[90m━━━━━━━━━━━━━━━━━━━━━━━━━━━━━━━━━━━━━━━━\u001b[0m \u001b[32m1.8/1.8 MB\u001b[0m \u001b[31m23.9 MB/s\u001b[0m eta \u001b[36m0:00:00\u001b[0m\n",
            "\u001b[?25h  Downloading langchain_community-0.0.28-py3-none-any.whl (1.8 MB)\n",
            "\u001b[2K     \u001b[90m━━━━━━━━━━━━━━━━━━━━━━━━━━━━━━━━━━━━━━━━\u001b[0m \u001b[32m1.8/1.8 MB\u001b[0m \u001b[31m27.8 MB/s\u001b[0m eta \u001b[36m0:00:00\u001b[0m\n",
            "\u001b[?25h  Downloading langchain_community-0.0.27-py3-none-any.whl (1.8 MB)\n",
            "\u001b[2K     \u001b[90m━━━━━━━━━━━━━━━━━━━━━━━━━━━━━━━━━━━━━━━━\u001b[0m \u001b[32m1.8/1.8 MB\u001b[0m \u001b[31m31.8 MB/s\u001b[0m eta \u001b[36m0:00:00\u001b[0m\n",
            "\u001b[?25hINFO: pip is looking at multiple versions of langchain-community to determine which version is compatible with other requirements. This could take a while.\n",
            "  Downloading langchain_community-0.0.26-py3-none-any.whl (1.8 MB)\n",
            "\u001b[2K     \u001b[90m━━━━━━━━━━━━━━━━━━━━━━━━━━━━━━━━━━━━━━━━\u001b[0m \u001b[32m1.8/1.8 MB\u001b[0m \u001b[31m35.5 MB/s\u001b[0m eta \u001b[36m0:00:00\u001b[0m\n",
            "\u001b[?25h  Downloading langchain_community-0.0.25-py3-none-any.whl (1.8 MB)\n",
            "\u001b[2K     \u001b[90m━━━━━━━━━━━━━━━━━━━━━━━━━━━━━━━━━━━━━━━━\u001b[0m \u001b[32m1.8/1.8 MB\u001b[0m \u001b[31m37.7 MB/s\u001b[0m eta \u001b[36m0:00:00\u001b[0m\n",
            "\u001b[?25h  Downloading langchain_community-0.0.24-py3-none-any.whl (1.7 MB)\n",
            "\u001b[2K     \u001b[90m━━━━━━━━━━━━━━━━━━━━━━━━━━━━━━━━━━━━━━━━\u001b[0m \u001b[32m1.7/1.7 MB\u001b[0m \u001b[31m41.8 MB/s\u001b[0m eta \u001b[36m0:00:00\u001b[0m\n",
            "\u001b[?25h  Downloading langchain_community-0.0.23-py3-none-any.whl (1.7 MB)\n",
            "\u001b[2K     \u001b[90m━━━━━━━━━━━━━━━━━━━━━━━━━━━━━━━━━━━━━━━━\u001b[0m \u001b[32m1.7/1.7 MB\u001b[0m \u001b[31m46.4 MB/s\u001b[0m eta \u001b[36m0:00:00\u001b[0m\n",
            "\u001b[?25h  Downloading langchain_community-0.0.22-py3-none-any.whl (1.7 MB)\n",
            "\u001b[2K     \u001b[90m━━━━━━━━━━━━━━━━━━━━━━━━━━━━━━━━━━━━━━━━\u001b[0m \u001b[32m1.7/1.7 MB\u001b[0m \u001b[31m47.0 MB/s\u001b[0m eta \u001b[36m0:00:00\u001b[0m\n",
            "\u001b[?25hINFO: This is taking longer than usual. You might need to provide the dependency resolver with stricter constraints to reduce runtime. See https://pip.pypa.io/warnings/backtracking for guidance. If you want to abort this run, press Ctrl + C.\n",
            "  Downloading langchain_community-0.0.21-py3-none-any.whl (1.7 MB)\n",
            "\u001b[2K     \u001b[90m━━━━━━━━━━━━━━━━━━━━━━━━━━━━━━━━━━━━━━━━\u001b[0m \u001b[32m1.7/1.7 MB\u001b[0m \u001b[31m47.0 MB/s\u001b[0m eta \u001b[36m0:00:00\u001b[0m\n",
            "\u001b[?25h  Downloading langchain_community-0.0.20-py3-none-any.whl (1.7 MB)\n",
            "\u001b[2K     \u001b[90m━━━━━━━━━━━━━━━━━━━━━━━━━━━━━━━━━━━━━━━━\u001b[0m \u001b[32m1.7/1.7 MB\u001b[0m \u001b[31m54.9 MB/s\u001b[0m eta \u001b[36m0:00:00\u001b[0m\n",
            "\u001b[?25hINFO: pip is looking at multiple versions of langchain-core to determine which version is compatible with other requirements. This could take a while.\n",
            "Collecting langchain-core<0.2,>=0.1.7 (from langchain==0.1.0->yandex_chain)\n",
            "  Downloading langchain_core-0.1.44-py3-none-any.whl (290 kB)\n",
            "\u001b[2K     \u001b[90m━━━━━━━━━━━━━━━━━━━━━━━━━━━━━━━━━━━━━━━━\u001b[0m \u001b[32m290.2/290.2 kB\u001b[0m \u001b[31m33.8 MB/s\u001b[0m eta \u001b[36m0:00:00\u001b[0m\n",
            "\u001b[?25h  Downloading langchain_core-0.1.43-py3-none-any.whl (289 kB)\n",
            "\u001b[2K     \u001b[90m━━━━━━━━━━━━━━━━━━━━━━━━━━━━━━━━━━━━━━━━\u001b[0m \u001b[32m289.1/289.1 kB\u001b[0m \u001b[31m35.2 MB/s\u001b[0m eta \u001b[36m0:00:00\u001b[0m\n",
            "\u001b[?25h  Downloading langchain_core-0.1.42-py3-none-any.whl (287 kB)\n",
            "\u001b[2K     \u001b[90m━━━━━━━━━━━━━━━━━━━━━━━━━━━━━━━━━━━━━━━━\u001b[0m \u001b[32m287.5/287.5 kB\u001b[0m \u001b[31m33.1 MB/s\u001b[0m eta \u001b[36m0:00:00\u001b[0m\n",
            "\u001b[?25h  Downloading langchain_core-0.1.41-py3-none-any.whl (278 kB)\n",
            "\u001b[2K     \u001b[90m━━━━━━━━━━━━━━━━━━━━━━━━━━━━━━━━━━━━━━━━\u001b[0m \u001b[32m278.4/278.4 kB\u001b[0m \u001b[31m34.6 MB/s\u001b[0m eta \u001b[36m0:00:00\u001b[0m\n",
            "\u001b[?25h  Downloading langchain_core-0.1.40-py3-none-any.whl (276 kB)\n",
            "\u001b[2K     \u001b[90m━━━━━━━━━━━━━━━━━━━━━━━━━━━━━━━━━━━━━━━━\u001b[0m \u001b[32m276.8/276.8 kB\u001b[0m \u001b[31m34.0 MB/s\u001b[0m eta \u001b[36m0:00:00\u001b[0m\n",
            "\u001b[?25h  Downloading langchain_core-0.1.39-py3-none-any.whl (276 kB)\n",
            "\u001b[2K     \u001b[90m━━━━━━━━━━━━━━━━━━━━━━━━━━━━━━━━━━━━━━━━\u001b[0m \u001b[32m276.6/276.6 kB\u001b[0m \u001b[31m31.9 MB/s\u001b[0m eta \u001b[36m0:00:00\u001b[0m\n",
            "\u001b[?25h  Downloading langchain_core-0.1.38-py3-none-any.whl (279 kB)\n",
            "\u001b[2K     \u001b[90m━━━━━━━━━━━━━━━━━━━━━━━━━━━━━━━━━━━━━━━━\u001b[0m \u001b[32m279.2/279.2 kB\u001b[0m \u001b[31m32.2 MB/s\u001b[0m eta \u001b[36m0:00:00\u001b[0m\n",
            "\u001b[?25hINFO: pip is looking at multiple versions of langchain-core to determine which version is compatible with other requirements. This could take a while.\n",
            "  Downloading langchain_core-0.1.37-py3-none-any.whl (274 kB)\n",
            "\u001b[2K     \u001b[90m━━━━━━━━━━━━━━━━━━━━━━━━━━━━━━━━━━━━━━━━\u001b[0m \u001b[32m274.6/274.6 kB\u001b[0m \u001b[31m27.0 MB/s\u001b[0m eta \u001b[36m0:00:00\u001b[0m\n",
            "\u001b[?25h  Downloading langchain_core-0.1.36-py3-none-any.whl (273 kB)\n",
            "\u001b[2K     \u001b[90m━━━━━━━━━━━━━━━━━━━━━━━━━━━━━━━━━━━━━━━━\u001b[0m \u001b[32m273.9/273.9 kB\u001b[0m \u001b[31m36.3 MB/s\u001b[0m eta \u001b[36m0:00:00\u001b[0m\n",
            "\u001b[?25h  Downloading langchain_core-0.1.35-py3-none-any.whl (273 kB)\n",
            "\u001b[2K     \u001b[90m━━━━━━━━━━━━━━━━━━━━━━━━━━━━━━━━━━━━━━━━\u001b[0m \u001b[32m273.0/273.0 kB\u001b[0m \u001b[31m35.2 MB/s\u001b[0m eta \u001b[36m0:00:00\u001b[0m\n",
            "\u001b[?25h  Downloading langchain_core-0.1.34-py3-none-any.whl (271 kB)\n",
            "\u001b[2K     \u001b[90m━━━━━━━━━━━━━━━━━━━━━━━━━━━━━━━━━━━━━━━━\u001b[0m \u001b[32m271.6/271.6 kB\u001b[0m \u001b[31m32.3 MB/s\u001b[0m eta \u001b[36m0:00:00\u001b[0m\n",
            "\u001b[?25h  Downloading langchain_core-0.1.33-py3-none-any.whl (269 kB)\n",
            "\u001b[2K     \u001b[90m━━━━━━━━━━━━━━━━━━━━━━━━━━━━━━━━━━━━━━━━\u001b[0m \u001b[32m269.1/269.1 kB\u001b[0m \u001b[31m36.4 MB/s\u001b[0m eta \u001b[36m0:00:00\u001b[0m\n",
            "\u001b[?25hRequirement already satisfied: anyio<5,>=3 in /usr/local/lib/python3.10/dist-packages (from langchain-core<0.2,>=0.1.7->langchain==0.1.0->yandex_chain) (3.7.1)\n",
            "INFO: This is taking longer than usual. You might need to provide the dependency resolver with stricter constraints to reduce runtime. See https://pip.pypa.io/warnings/backtracking for guidance. If you want to abort this run, press Ctrl + C.\n",
            "  Downloading langchain_core-0.1.32-py3-none-any.whl (260 kB)\n",
            "\u001b[2K     \u001b[90m━━━━━━━━━━━━━━━━━━━━━━━━━━━━━━━━━━━━━━━━\u001b[0m \u001b[32m260.9/260.9 kB\u001b[0m \u001b[31m33.3 MB/s\u001b[0m eta \u001b[36m0:00:00\u001b[0m\n",
            "\u001b[?25h  Downloading langchain_core-0.1.31-py3-none-any.whl (258 kB)\n",
            "\u001b[2K     \u001b[90m━━━━━━━━━━━━━━━━━━━━━━━━━━━━━━━━━━━━━━━━\u001b[0m \u001b[32m258.8/258.8 kB\u001b[0m \u001b[31m33.6 MB/s\u001b[0m eta \u001b[36m0:00:00\u001b[0m\n",
            "\u001b[?25h  Downloading langchain_core-0.1.30-py3-none-any.whl (256 kB)\n",
            "\u001b[2K     \u001b[90m━━━━━━━━━━━━━━━━━━━━━━━━━━━━━━━━━━━━━━━━\u001b[0m \u001b[32m256.9/256.9 kB\u001b[0m \u001b[31m31.9 MB/s\u001b[0m eta \u001b[36m0:00:00\u001b[0m\n",
            "\u001b[?25h  Downloading langchain_core-0.1.29-py3-none-any.whl (252 kB)\n",
            "\u001b[2K     \u001b[90m━━━━━━━━━━━━━━━━━━━━━━━━━━━━━━━━━━━━━━━━\u001b[0m \u001b[32m252.6/252.6 kB\u001b[0m \u001b[31m31.8 MB/s\u001b[0m eta \u001b[36m0:00:00\u001b[0m\n",
            "\u001b[?25h  Downloading langchain_core-0.1.28-py3-none-any.whl (252 kB)\n",
            "\u001b[2K     \u001b[90m━━━━━━━━━━━━━━━━━━━━━━━━━━━━━━━━━━━━━━━━\u001b[0m \u001b[32m252.4/252.4 kB\u001b[0m \u001b[31m29.3 MB/s\u001b[0m eta \u001b[36m0:00:00\u001b[0m\n",
            "\u001b[?25h  Downloading langchain_core-0.1.27-py3-none-any.whl (250 kB)\n",
            "\u001b[2K     \u001b[90m━━━━━━━━━━━━━━━━━━━━━━━━━━━━━━━━━━━━━━━━\u001b[0m \u001b[32m250.8/250.8 kB\u001b[0m \u001b[31m31.5 MB/s\u001b[0m eta \u001b[36m0:00:00\u001b[0m\n",
            "\u001b[?25h  Downloading langchain_core-0.1.26-py3-none-any.whl (246 kB)\n",
            "\u001b[2K     \u001b[90m━━━━━━━━━━━━━━━━━━━━━━━━━━━━━━━━━━━━━━━━\u001b[0m \u001b[32m246.4/246.4 kB\u001b[0m \u001b[31m30.4 MB/s\u001b[0m eta \u001b[36m0:00:00\u001b[0m\n",
            "\u001b[?25h  Downloading langchain_core-0.1.25-py3-none-any.whl (242 kB)\n",
            "\u001b[2K     \u001b[90m━━━━━━━━━━━━━━━━━━━━━━━━━━━━━━━━━━━━━━━━\u001b[0m \u001b[32m242.1/242.1 kB\u001b[0m \u001b[31m28.6 MB/s\u001b[0m eta \u001b[36m0:00:00\u001b[0m\n",
            "\u001b[?25h  Downloading langchain_core-0.1.24-py3-none-any.whl (241 kB)\n",
            "\u001b[2K     \u001b[90m━━━━━━━━━━━━━━━━━━━━━━━━━━━━━━━━━━━━━━━━\u001b[0m \u001b[32m241.3/241.3 kB\u001b[0m \u001b[31m26.6 MB/s\u001b[0m eta \u001b[36m0:00:00\u001b[0m\n",
            "\u001b[?25h  Downloading langchain_core-0.1.23-py3-none-any.whl (241 kB)\n",
            "\u001b[2K     \u001b[90m━━━━━━━━━━━━━━━━━━━━━━━━━━━━━━━━━━━━━━━━\u001b[0m \u001b[32m241.2/241.2 kB\u001b[0m \u001b[31m28.8 MB/s\u001b[0m eta \u001b[36m0:00:00\u001b[0m\n",
            "\u001b[?25hCollecting langsmith<0.1.0,>=0.0.77 (from langchain==0.1.0->yandex_chain)\n",
            "  Downloading langsmith-0.0.87-py3-none-any.whl (55 kB)\n",
            "\u001b[2K     \u001b[90m━━━━━━━━━━━━━━━━━━━━━━━━━━━━━━━━━━━━━━━━\u001b[0m \u001b[32m55.4/55.4 kB\u001b[0m \u001b[31m8.6 MB/s\u001b[0m eta \u001b[36m0:00:00\u001b[0m\n",
            "\u001b[?25hRequirement already satisfied: packaging<24.0,>=23.2 in /usr/local/lib/python3.10/dist-packages (from langchain-core<0.2,>=0.1.7->langchain==0.1.0->yandex_chain) (23.2)\n",
            "Requirement already satisfied: annotated-types>=0.4.0 in /usr/local/lib/python3.10/dist-packages (from pydantic<3,>=1->langchain==0.1.0->yandex_chain) (0.6.0)\n",
            "Requirement already satisfied: pydantic-core==2.18.1 in /usr/local/lib/python3.10/dist-packages (from pydantic<3,>=1->langchain==0.1.0->yandex_chain) (2.18.1)\n",
            "Requirement already satisfied: typing-extensions>=4.6.1 in /usr/local/lib/python3.10/dist-packages (from pydantic<3,>=1->langchain==0.1.0->yandex_chain) (4.11.0)\n",
            "Requirement already satisfied: greenlet!=0.4.17 in /usr/local/lib/python3.10/dist-packages (from SQLAlchemy<3,>=1.4->langchain==0.1.0->yandex_chain) (3.0.3)\n",
            "Requirement already satisfied: sniffio>=1.1 in /usr/local/lib/python3.10/dist-packages (from anyio<5,>=3->langchain-core<0.2,>=0.1.7->langchain==0.1.0->yandex_chain) (1.3.1)\n",
            "Requirement already satisfied: exceptiongroup in /usr/local/lib/python3.10/dist-packages (from anyio<5,>=3->langchain-core<0.2,>=0.1.7->langchain==0.1.0->yandex_chain) (1.2.1)\n",
            "Requirement already satisfied: mypy-extensions>=0.3.0 in /usr/local/lib/python3.10/dist-packages (from typing-inspect<1,>=0.4.0->dataclasses-json<0.7,>=0.5.7->langchain==0.1.0->yandex_chain) (1.0.0)\n",
            "Building wheels for collected packages: yandex_chain\n",
            "  Building wheel for yandex_chain (setup.py) ... \u001b[?25l\u001b[?25hdone\n",
            "  Created wheel for yandex_chain: filename=yandex_chain-0.0.6-py3-none-any.whl size=7861 sha256=0a81757bf0b56ec75f0f1108fc0998babb22f1c049fb9f321434d924efd79d69\n",
            "  Stored in directory: /root/.cache/pip/wheels/4a/14/69/746aa90c4150bc1dd67307e224ba9dee0a2bb603ae0ecf8c54\n",
            "Successfully built yandex_chain\n",
            "Installing collected packages: langsmith, langchain-core, langchain-community, langchain, yandex_chain\n",
            "  Attempting uninstall: langsmith\n",
            "    Found existing installation: langsmith 0.1.50\n",
            "    Uninstalling langsmith-0.1.50:\n",
            "      Successfully uninstalled langsmith-0.1.50\n",
            "  Attempting uninstall: langchain-core\n",
            "    Found existing installation: langchain-core 0.1.45\n",
            "    Uninstalling langchain-core-0.1.45:\n",
            "      Successfully uninstalled langchain-core-0.1.45\n",
            "  Attempting uninstall: langchain-community\n",
            "    Found existing installation: langchain-community 0.0.34\n",
            "    Uninstalling langchain-community-0.0.34:\n",
            "      Successfully uninstalled langchain-community-0.0.34\n",
            "  Attempting uninstall: langchain\n",
            "    Found existing installation: langchain 0.1.16\n",
            "    Uninstalling langchain-0.1.16:\n",
            "      Successfully uninstalled langchain-0.1.16\n",
            "\u001b[31mERROR: pip's dependency resolver does not currently take into account all the packages that are installed. This behaviour is the source of the following dependency conflicts.\n",
            "langchain-text-splitters 0.0.1 requires langchain-core<0.2.0,>=0.1.28, but you have langchain-core 0.1.23 which is incompatible.\u001b[0m\u001b[31m\n",
            "\u001b[0mSuccessfully installed langchain-0.1.0 langchain-community-0.0.20 langchain-core-0.1.23 langsmith-0.0.87 yandex_chain-0.0.6\n",
            "Collecting lancedb\n",
            "  Downloading lancedb-0.6.10-cp38-abi3-manylinux_2_28_x86_64.whl (20.3 MB)\n",
            "\u001b[2K     \u001b[90m━━━━━━━━━━━━━━━━━━━━━━━━━━━━━━━━━━━━━━━━\u001b[0m \u001b[32m20.3/20.3 MB\u001b[0m \u001b[31m34.8 MB/s\u001b[0m eta \u001b[36m0:00:00\u001b[0m\n",
            "\u001b[?25hCollecting deprecation (from lancedb)\n",
            "  Downloading deprecation-2.1.0-py2.py3-none-any.whl (11 kB)\n",
            "Collecting pylance==0.10.12 (from lancedb)\n",
            "  Downloading pylance-0.10.12-cp38-abi3-manylinux_2_28_x86_64.whl (22.4 MB)\n",
            "\u001b[2K     \u001b[90m━━━━━━━━━━━━━━━━━━━━━━━━━━━━━━━━━━━━━━━━\u001b[0m \u001b[32m22.4/22.4 MB\u001b[0m \u001b[31m46.4 MB/s\u001b[0m eta \u001b[36m0:00:00\u001b[0m\n",
            "\u001b[?25hCollecting ratelimiter~=1.0 (from lancedb)\n",
            "  Downloading ratelimiter-1.2.0.post0-py3-none-any.whl (6.6 kB)\n",
            "Requirement already satisfied: requests>=2.31.0 in /usr/local/lib/python3.10/dist-packages (from lancedb) (2.31.0)\n",
            "Collecting retry>=0.9.2 (from lancedb)\n",
            "  Downloading retry-0.9.2-py2.py3-none-any.whl (8.0 kB)\n",
            "Requirement already satisfied: tqdm>=4.27.0 in /usr/local/lib/python3.10/dist-packages (from lancedb) (4.66.2)\n",
            "Requirement already satisfied: pydantic>=1.10 in /usr/local/lib/python3.10/dist-packages (from lancedb) (2.7.0)\n",
            "Requirement already satisfied: attrs>=21.3.0 in /usr/local/lib/python3.10/dist-packages (from lancedb) (23.2.0)\n",
            "Collecting semver>=3.0 (from lancedb)\n",
            "  Downloading semver-3.0.2-py3-none-any.whl (17 kB)\n",
            "Requirement already satisfied: cachetools in /usr/local/lib/python3.10/dist-packages (from lancedb) (5.3.3)\n",
            "Collecting overrides>=0.7 (from lancedb)\n",
            "  Downloading overrides-7.7.0-py3-none-any.whl (17 kB)\n",
            "Requirement already satisfied: pyarrow<15.0.1,>=12 in /usr/local/lib/python3.10/dist-packages (from pylance==0.10.12->lancedb) (14.0.2)\n",
            "Requirement already satisfied: numpy>=1.22 in /usr/local/lib/python3.10/dist-packages (from pylance==0.10.12->lancedb) (1.25.2)\n",
            "Requirement already satisfied: annotated-types>=0.4.0 in /usr/local/lib/python3.10/dist-packages (from pydantic>=1.10->lancedb) (0.6.0)\n",
            "Requirement already satisfied: pydantic-core==2.18.1 in /usr/local/lib/python3.10/dist-packages (from pydantic>=1.10->lancedb) (2.18.1)\n",
            "Requirement already satisfied: typing-extensions>=4.6.1 in /usr/local/lib/python3.10/dist-packages (from pydantic>=1.10->lancedb) (4.11.0)\n",
            "Requirement already satisfied: charset-normalizer<4,>=2 in /usr/local/lib/python3.10/dist-packages (from requests>=2.31.0->lancedb) (3.3.2)\n",
            "Requirement already satisfied: idna<4,>=2.5 in /usr/local/lib/python3.10/dist-packages (from requests>=2.31.0->lancedb) (3.7)\n",
            "Requirement already satisfied: urllib3<3,>=1.21.1 in /usr/local/lib/python3.10/dist-packages (from requests>=2.31.0->lancedb) (2.0.7)\n",
            "Requirement already satisfied: certifi>=2017.4.17 in /usr/local/lib/python3.10/dist-packages (from requests>=2.31.0->lancedb) (2024.2.2)\n",
            "Requirement already satisfied: decorator>=3.4.2 in /usr/local/lib/python3.10/dist-packages (from retry>=0.9.2->lancedb) (4.4.2)\n",
            "Collecting py<2.0.0,>=1.4.26 (from retry>=0.9.2->lancedb)\n",
            "  Downloading py-1.11.0-py2.py3-none-any.whl (98 kB)\n",
            "\u001b[2K     \u001b[90m━━━━━━━━━━━━━━━━━━━━━━━━━━━━━━━━━━━━━━━━\u001b[0m \u001b[32m98.7/98.7 kB\u001b[0m \u001b[31m14.4 MB/s\u001b[0m eta \u001b[36m0:00:00\u001b[0m\n",
            "\u001b[?25hRequirement already satisfied: packaging in /usr/local/lib/python3.10/dist-packages (from deprecation->lancedb) (23.2)\n",
            "Installing collected packages: ratelimiter, semver, py, overrides, deprecation, retry, pylance, lancedb\n",
            "Successfully installed deprecation-2.1.0 lancedb-0.6.10 overrides-7.7.0 py-1.11.0 pylance-0.10.12 ratelimiter-1.2.0.post0 retry-0.9.2 semver-3.0.2\n",
            "Collecting prompts\n",
            "  Downloading prompts-0.0.1-py3-none-any.whl (1.2 kB)\n",
            "Installing collected packages: prompts\n",
            "Successfully installed prompts-0.0.1\n"
          ]
        }
      ]
    },
    {
      "cell_type": "code",
      "source": [
        "# Load Documents:\n",
        "import langchain\n",
        "import langchain.document_loaders\n",
        "import langchain.text_splitter\n",
        "\n",
        "source_dir = \"//content\"\n",
        "loader = langchain.document_loaders.DirectoryLoader(\n",
        "          source_dir,glob=\"*.txt\",\n",
        "          show_progress=True,recursive=True)\n",
        "splitter = langchain.text_splitter.RecursiveCharacterTextSplitter(\n",
        "          chunk_size=1050, chunk_overlap=20)\n",
        "fragments = splitter.create_documents(\n",
        "          [ x.page_content for x in loader.load() ])"
      ],
      "metadata": {
        "colab": {
          "base_uri": "https://localhost:8080/"
        },
        "id": "AUwueXEq7zmG",
        "outputId": "10f36f49-3d8f-452c-fcb0-3da2043a0c24"
      },
      "execution_count": null,
      "outputs": [
        {
          "output_type": "stream",
          "name": "stderr",
          "text": [
            "\r  0%|          | 0/5 [00:00<?, ?it/s][nltk_data] Downloading package punkt to /root/nltk_data...\n",
            "[nltk_data]   Unzipping tokenizers/punkt.zip.\n",
            "[nltk_data] Downloading package averaged_perceptron_tagger to\n",
            "[nltk_data]     /root/nltk_data...\n",
            "[nltk_data]   Unzipping taggers/averaged_perceptron_tagger.zip.\n",
            "100%|██████████| 5/5 [00:11<00:00,  2.23s/it]\n"
          ]
        }
      ]
    },
    {
      "cell_type": "code",
      "source": [
        "# Embeddings:\n",
        "from yandex_chain import YandexEmbeddings\n",
        "embeddings = YandexEmbeddings(folder_id='id', api_key='key')\n",
        "\n",
        "# Vector Database:\n",
        "from langchain.vectorstores import LanceDB\n",
        "import lancedb\n",
        "\n",
        "db_dir = \"../store\"\n",
        "db = lancedb.connect(db_dir)\n",
        "table = db.create_table(\n",
        "  \"vector_index\",\n",
        "  data=[{\n",
        "          \"vector\": embeddings.embed_query(\"Hello World\"),\n",
        "          \"text\": \"Hello World\",\n",
        "          \"id\": \"1\",\n",
        "      }],\n",
        "  mode=\"overwrite\")"
      ],
      "metadata": {
        "id": "IQHif1NP1Jlf"
      },
      "execution_count": null,
      "outputs": []
    },
    {
      "cell_type": "code",
      "source": [
        "db = LanceDB.from_documents(fragments, embeddings, connection=table)"
      ],
      "metadata": {
        "id": "2Z_6DhZR-n7U"
      },
      "execution_count": null,
      "outputs": []
    },
    {
      "cell_type": "code",
      "source": [
        "q=\"что такое иуп?\" # query\n",
        "\n",
        "res = db.similarity_search(q)\n",
        "for x in res:\n",
        "    print('-'*100)\n",
        "    print(x.page_content)\n",
        "\n",
        "# retriever:\n",
        "retriever = db.as_retriever(search_kwargs={\"k\": 4})\n",
        "res = retriever.get_relevant_documents(q)\n",
        "# print(res)"
      ],
      "metadata": {
        "id": "mGaqaqAD-n_g",
        "colab": {
          "base_uri": "https://localhost:8080/"
        },
        "outputId": "7ddec207-eff0-4311-97c3-19a384f3a574"
      },
      "execution_count": null,
      "outputs": [
        {
          "output_type": "stream",
          "name": "stdout",
          "text": [
            "----------------------------------------------------------------------------------------------------\n",
            "и пароля. УИС – информационная система НИУ ВШЭ, в которой хранятся данные об успеваемости студентов, нагрузке преподавателей, учебные планы и пр. ПУД – программа учебной дисциплины или практики. Конструктор ПУД – модуль информационной образовательной среды, являющийся электронным хранилищем всех программ учебных дисциплин, реализуемых в НИУ ВШЭ. Дисциплина – учебная дисциплина и другие виды учебной работы1.\n",
            "----------------------------------------------------------------------------------------------------\n",
            "Департамент – структурное подразделение факультета, реализующее учебно-методическую и научную деятельность факультета и обеспечивающее администрирование этих направлений деятельности (кафедра, департамент, институт, школа, другое); Учебный офис – структурное подразделение факультета, в функции которого входит сопровождение процессов, связанных с обучением студентов образовательной программы, и включенное в систему учебных офисов в установленном в НИУ ВШЭ порядке. Менеджер программы – работник учебного офиса, которому поручена координация процессов по сопровождению образовательной программы и обучению студентов. ЭИОС – электронная информационная образовательная  среда, включающая в себя систему управления учебным процессом (SmartLMS), сервисы личного кабинета обучающегося,  корпоративную электронную почту студента и работника НИУ ВШЭ и иные предоставляемые университетом сервисы, позволяющие однозначно идентифицировать пользователя, который получает доступ к инструментам ЭИОС, авторизуясь с помощью персонального логина и пароля. УИС –\n",
            "----------------------------------------------------------------------------------------------------\n",
            "Материалы, предоставляемые преподавателем студентам для освоения дисциплины (видеозаписи занятий, конспекты, дополнительные печатные материалы и иное), а также иные материалы (в том числе видео, аудио), формируемые студентами или преподавателями в ходе проведения занятий с применением дистанционных технологий, могут размещаться в ЭИОС по решению преподавателей в порядке, установленном локальными нормативными актами, но не подлежат распространению за пределами учебной группы (потока), в том числе с использованием иных средств связи. 38. Во время проведения Элемента контроля студенты по решению преподавателя могут пользоваться учебными программами, справочниками и прочими источниками информации, включая генеративные модели, перечень которых устанавливается преподавателем и содержится в ПУД.\n",
            "----------------------------------------------------------------------------------------------------\n",
            "1. Общие положения 1.1. Настоящее Приложение определяет особенности организации образовательного процесса для обучения студентов образовательных программ высшего образования – программ бакалавриата, специалитета и магистратуры Национального исследовательского университета «Высшая школа экономики» из числа инвалидов и лиц с ограниченными возможностями здоровья (далее – ОВЗ). 1.2. Целью организации образовательного процесса для обучения студентов с инвалидностью и ОВЗ является обеспечение доступности образовательных услуг, предоставляемых НИУ ВШЭ, и интеграция студентов с инвалидностью и ОВЗ в социальную и образовательную среду вуза. 1.3. Особенности разработаны в соответствии с Федеральным законом от 29.12.2012 № 273-ФЗ «Об образовании в Российской Федерации» и Методическими рекомендациями по организации образовательного процесса для обучения инвалидов и лиц с ограниченными возможностями здоровья в общеобразовательных организациях высшего образования, в том числе оснащенности образовательного процесса, утвержденными Минобрнауки России\n"
          ]
        }
      ]
    },
    {
      "cell_type": "code",
      "source": [
        "# LLM:\n",
        "from yandex_chain import YandexLLM\n",
        "\n",
        "instructions = \"\"\"\n",
        "Представь себе, что ты друг, готовый найти тот самый ответ из юридических университетских документов.\n",
        "Тебя спрашивает студент, который хочет разобраться в вопросе и получить ясный и точный ответ на свой вопрос. Постарайся\n",
        "ответить на его вопрос подробно, доступно и уважительно.\n",
        "Не нужно при ответе на вопрос явно прописывать что-то вроде \"исходя из вашего текста\" или \"на основе предоставленного текта\",\n",
        "достаточно сразу ответить на вопрос или дать пояснение с дальнейшим объснением \"\"\"\n",
        "\n",
        "LLM = YandexLLM(folder_id='id', api_key='key',\n",
        "                instruction_text = instructions)"
      ],
      "metadata": {
        "id": "bVuiQASB75bp"
      },
      "execution_count": null,
      "outputs": []
    },
    {
      "cell_type": "code",
      "source": [
        "# Prompts:\n",
        "import langchain.prompts\n",
        "\n",
        "# Промпт для обработки документов\n",
        "document_prompt = langchain.prompts.PromptTemplate(\n",
        "    input_variables=[\"page_content\"], template=\"{page_content}\")\n",
        "\n",
        "# Промпт для языковой модели\n",
        "document_variable_name = \"context\"\n",
        "template = \"\"\"\n",
        "Пожалуйста, посмотри на текст ниже и ответь на вопрос, используя\n",
        "информацию из этого текста.\n",
        "Текст:\n",
        "-----\n",
        "{context}\n",
        "-----\n",
        "Вопрос:\n",
        "{query}\"\"\"\n",
        "prompt = langchain.prompts.PromptTemplate(\n",
        "    template=template, input_variables=[\"context\", \"query\"])"
      ],
      "metadata": {
        "id": "QeqohcyR78ds"
      },
      "execution_count": null,
      "outputs": []
    },
    {
      "cell_type": "code",
      "source": [
        "# Chains: создаем цепочку\n",
        "import langchain.chains\n",
        "llm_chain = langchain.chains.LLMChain(llm=LLM, prompt=prompt)\n",
        "chain = langchain.chains.StuffDocumentsChain(\n",
        "    llm_chain=llm_chain,\n",
        "    document_prompt=document_prompt,\n",
        "    document_variable_name=document_variable_name)"
      ],
      "metadata": {
        "id": "iY01LTjv8DOz"
      },
      "execution_count": null,
      "outputs": []
    },
    {
      "cell_type": "code",
      "source": [
        "# Reorder:\n",
        "from langchain.document_transformers import LongContextReorder\n",
        "reorderer = LongContextReorder()\n",
        "\n",
        "def answer(query,reorder=True):\n",
        "  results = retriever.get_relevant_documents(query)\n",
        "  if reorder:\n",
        "    results = reorderer.transform_documents(results)\n",
        "  return chain.run(input_documents=results, query=query)"
      ],
      "metadata": {
        "id": "M6zWylQr8E0h"
      },
      "execution_count": null,
      "outputs": []
    },
    {
      "cell_type": "code",
      "source": [
        "chain.run(input_documents=res, query=q)"
      ],
      "metadata": {
        "colab": {
          "base_uri": "https://localhost:8080/",
          "height": 35
        },
        "id": "y4oGl19CRoZb",
        "outputId": "76038108-e62e-4412-859a-eaaa1fc1887d"
      },
      "execution_count": null,
      "outputs": [
        {
          "output_type": "execute_result",
          "data": {
            "text/plain": [
              "'Очевидно из текста, что ИУП — это **индивидуальные учебные планы**.'"
            ],
            "application/vnd.google.colaboratory.intrinsic+json": {
              "type": "string"
            }
          },
          "metadata": {},
          "execution_count": 66
        }
      ]
    },
    {
      "cell_type": "code",
      "source": [
        "chain.run(input_documents=res, query=q)"
      ],
      "metadata": {
        "colab": {
          "base_uri": "https://localhost:8080/",
          "height": 87
        },
        "id": "IDpEcs8FBnSw",
        "outputId": "14011054-c040-4dc5-d092-fdab314e0915"
      },
      "execution_count": null,
      "outputs": [
        {
          "output_type": "execute_result",
          "data": {
            "text/plain": [
              "'На основе предоставленной информации можно предположить, что **ИУП** (индивидуальные учебные планы) – это особая организация учебного процесса для студентов из числа инвалидов или лиц с ограниченными возможностями, предусмотренная в соответствии с федеральным законодательством и методическими рекомендациями Министерства образования и науки Российской Федерации. ИУП также определяет особенные требования к предоставлению образовательных услуг и интеграции студентов с особыми потребностями в социальную и учебную среду университета.'"
            ],
            "application/vnd.google.colaboratory.intrinsic+json": {
              "type": "string"
            }
          },
          "metadata": {},
          "execution_count": 67
        }
      ]
    },
    {
      "cell_type": "code",
      "source": [
        "answer(q)"
      ],
      "metadata": {
        "colab": {
          "base_uri": "https://localhost:8080/",
          "height": 53
        },
        "id": "wf3koyiQTWoT",
        "outputId": "13bffae1-e431-4c21-fb91-b8858085040a"
      },
      "execution_count": null,
      "outputs": [
        {
          "output_type": "execute_result",
          "data": {
            "text/plain": [
              "'Исходя из информации, представленной в тексте, можно сделать вывод, что **ИУП** — это индивидуальный учебный план. Он определяет особенности образовательного процесса студентов НИУ ВШЭ из числа инвалидов или лиц с ограниченными физическими возможностями здоровья.'"
            ],
            "application/vnd.google.colaboratory.intrinsic+json": {
              "type": "string"
            }
          },
          "metadata": {},
          "execution_count": 68
        }
      ]
    },
    {
      "cell_type": "code",
      "source": [
        "def compare(q):\n",
        "    print(f\"Ответ YaGPT: {LLM(q)}\")\n",
        "    print(f\"Ответ бота: {answer(q)}\")\n",
        "\n",
        "compare(\"что такое иуп?\")"
      ],
      "metadata": {
        "colab": {
          "base_uri": "https://localhost:8080/"
        },
        "id": "xiEVoLNfStS8",
        "outputId": "88edc801-39e8-44de-ea29-c9a292c57a98"
      },
      "execution_count": null,
      "outputs": [
        {
          "output_type": "stream",
          "name": "stdout",
          "text": [
            "Ответ YaGPT: Если я вас правильно понял, вас интересует, «Что такое институт уполномоченного по правам человека, и какие у него полномочия?»\n",
            "\n",
            "Институт Уполномоченного защищает права и свободы человека и гражданина, следит за их соблюдением там, где они нарушаются, предупреждает такое нарушение. Например, помогает решить конфликты между людьми и организациями, властью и гражданами, отстаивает интересы граждан в суде, самостоятельно или совместно с органами власти.<br>\n",
            "Вот что конкретно делает уполномоченный по правам человека:<br>\n",
            "- Рассмотрение обращений граждан, чьи права были нарушены или могли быть нарушены. Он может провести независимый анализ фактов, изложенных в заявлении, и рекомендовать восстановление прав его подавшего, но не может контролировать, как эти рекомендации выполняются;<br>\n",
            " - Анализирует законодательство, региональные законы и решения местных органов власти на предмет соответствия национальным и международным стандартам в области прав человека. Выносит рекомендации об исправлении несоответствий законодательства;<br>    \n",
            "- Изучает обращения, поступившие от граждан и организаций, о нарушениях их прав и свобод. Уполномоченный может по отдельным вопросам развития законодательства обратиться к субъектам права законодательной инициативы с предложениями, касающимися жизнедеятельности граждан;<br> \n",
            "- Выступает с докладами о состоянии и соблюдении прав и свобод человека и гражданина;<br>     \n",
            "- Предостерегает органы государственной власти от принятия решений, противоречащих законодательству, а также ущемляющих права человека;<br>      \n",
            " - Рассматривает запросы и жалобы на решения или действия органов государственной власти и местного самоуправления.<br><br>\n",
            "Уполномоченный не имеет права вмешиваться в деятельность органов правосудия. А сам он может быть отозван только большинством голосов присутствующих на заседании, на котором было принято постановление по делу, то есть не всегда даже самим заявителем.\n",
            "Ответ бота: Исходя из предоставленного текста можно сделать вывод, что ИУП — это **индивидуальный учебный план**. Это документ, отражающий программу обучения студента по конкретной образовательной программе. Он включает в себя перечень учебных предметов, аудиторную и самостоятельную работу и формы аттестации.\n"
          ]
        }
      ]
    },
    {
      "cell_type": "code",
      "source": [
        "compare('Что означает термин Положение в контексте документа?')"
      ],
      "metadata": {
        "colab": {
          "base_uri": "https://localhost:8080/"
        },
        "id": "txyCMfniSyPF",
        "outputId": "c5b77ca8-47ca-41b8-f5f7-c1baadd6ee90"
      },
      "execution_count": null,
      "outputs": [
        {
          "output_type": "stream",
          "name": "stdout",
          "text": [
            "Ответ YaGPT: Студент, термин «Положение» может иметь различные значения в зависимости от контекста юридического документа. В целом, Положение представляет собой свод правил и инструкций, устанавливающих порядок осуществления определённой деятельности или управления определённым процессом. Оно может устанавливать принципы и нормы, определять структуру и функции организаций или устанавливать процедуры и регламенты для конкретных ситуаций. Положения могут касаться различных сфер юридической деятельности и служить источником правовых норм и предписаний. Ответ на ваш вопрос может звучать так: **«Положение — это документ, который включает в себя свод правил, инструкций и рекомендаций, регламентирующих различные аспекты правовой, организационной или управленческой сферы деятельности».**\n",
            "Ответ бота: Могу предположить, что в данном контексте **Положение** — это *Положение об организации промежуточной и текущей аттестации и успеваемости обучающихся* Национального исследовательского университета **«**Высшая школа экономики**»**.\n"
          ]
        }
      ]
    },
    {
      "cell_type": "code",
      "source": [
        "compare('Какова роль академического руководителя в НИУ ВШЭ?')"
      ],
      "metadata": {
        "colab": {
          "base_uri": "https://localhost:8080/"
        },
        "id": "Td6sXDc6T-Gf",
        "outputId": "535e25fb-ddfd-402d-a9b6-87389a1ca18b"
      },
      "execution_count": null,
      "outputs": [
        {
          "output_type": "stream",
          "name": "stdout",
          "text": [
            "Ответ YaGPT: Студент!\n",
            "\n",
            "Роль академического руководителя очень важна в структуре высшего образования. Академический руководитель в **Национальном исследовательском университете «Высшая школа экономики»** (НИУ ВШЭ) — одна из ключевых фигур, которые играют ключевую роль не только в академической, но и в личной жизни студентов. Вот как он может влиять на вашу учёбу и развитие.\n",
            "\n",
            "**1. Поддержка и помощь в планировании учебного процесса.** Академический руководитель помогает студентам составить индивидуальный учебный план, внося изменения и предлагая альтернативные курсы, если это требуется. Это означает, что он работает с вами, чтобы убедиться, что ваша учёба соответствует вашим потребностям и интересам. Всесторонняя помощь академического руководителя также включает рекомендации по выбору дисциплин для изучения и их сложности. При этом ваши интересы всегда остаются приоритетными.\n",
            "\n",
            " **2. Консультирование относительно выбора направлений обучения и карьерных перспектив.** Один из основных вкладов академического руководителя — консультирование по широкому кругу образовательных возможностей, доступных после окончания НИУ ВШЭ. Он может помочь определить, какие направления и школы/лаборатории могут быть наиболее интересными и подходящими для вас. Кроме того, он поможет оценить возможные карьерные перспективы в выбранной области.\n",
            "\n",
            "3. **Поддержка во время учебного процесса и в условиях особых обстоятельств.** Студенты часто могут столкнуться с различными вызовами, связанными с учебой — болезнь, заботы личного характера или стрессовые ситуации. В такие моменты академический руководитель может оказать поддержку, рассматривая особые условия и обеспечивая индивидуальное понимание для вашего учебного прогресса.\n",
            "\n",
            "4. **Помощь в преодолении трудностей и кризисных ситуациях.** Учебный процесс необязательно должен идти гладко. Если возникают вопросы или проблемы, академический руководитель готов выслушать, понять и помочь разрешить проблемы. Такой подход не только концентрируется на академических аспектах, но также обеспечивает поддержку личностного развития, выраженную в понимании, профессионализме и искреннем интересе к вашей академической карьере.\n",
            "\n",
            "5. **Развитие soft skills и академического присутствия.** Академические руководители укрепляют способность студентов реализовывать свои потенциалы, содействуя формированию лидерских качеств и ответственности, а также активной позиции в учёбе и будущей карьере. Они также способствуют развитию академического общения и укреплению командного духа.\n",
            "\n",
            "Важно понимать, что эта роль многомерна, так как она выходит за рамки чисто академической экспертизы и включает значимое участие в жизни всего университета. Эта работа требует высокой степени эмпатии, терпения и умения уделять внимание деталям при активной поддержке студентов в их академическом развитии. Поэтому важно построить открытое и доверительное взаимодействие между академическим руководителем и студентами для наилучших результатов в учёбе, сообществе и профессиональной среде НИУ ВШЭ и за его пределами.\n",
            "Ответ бота: Академический руководитель отвечает за проектирование, реализацию и эффективность конкретной образовательной программы в НИУ ВШЭ. Другими словами, академический руководитель курирует образовательную программу, например, бакалавриат, специалитет, магистратуру. В данном случае академический руководитель — это работник НИУ ВШЭ, относящийся к научно-педагогическим работникам, который отвечает за все аспекты разработки, организации и оценки образовательной программы. Он тесно сотрудничает с другими участниками образовательного процесса и следит за качеством обучения студентов своей программы.\n"
          ]
        }
      ]
    },
    {
      "cell_type": "code",
      "source": [
        "compare('Может ли студент исправить оценку по блокирующему элементу контроля?')"
      ],
      "metadata": {
        "colab": {
          "base_uri": "https://localhost:8080/"
        },
        "id": "95Pa3Y6VXNqF",
        "outputId": "f140dfcc-4d83-41bf-c6ff-a3a47f2d20ff"
      },
      "execution_count": null,
      "outputs": [
        {
          "output_type": "stream",
          "name": "stdout",
          "text": [
            "Ответ YaGPT: Студент может обратиться в специальную комиссию или к преподавателю, который проводил элемент контроля, с аргументированным заявлением о пересмотре оценки. Причинами для пересмотра оценки могут быть, например, непредставление студента возможности ознакомиться с элементом контроля по объективной причине или необъективность оценки. Заявление студента будет рассматриваться комиссией или преподавателем, и если его претензии будут признаны обоснованными, оценка может быть исправлена.\n",
            "\n",
            "Исправление оценки по блокирующим элементам контроля регулируется внутренними нормативными актами учебного заведения и рекомендациями вышестоящих органов образования. В них могут быть прописаны конкретные шаги и процедуры для исправления оценок. Студент должен ознакомиться с этими документами, чтобы понимать свои возможности и требования. Важно также учесть срок подачи заявлений и возможность оспаривания решений, установленных данными документами.\n",
            "Ответ бота: Студент не может исправить оценку по элементу контроля, который был блокирующим, то есть который мог повлиять на промежуточную оценку **в случае получения неудовлетворительного результата**.  \n",
            "\n",
            "Согласно представленным данным, оценка по такому элементу приравнивалась к оценке по всей промежуточной аттестации, пока студент её не улучшит — то есть не получит положительную.  \n",
            "\n",
            "Так как представленная информация касается внутренней системы контроля знаний, правил и условий проведения контроля в рамках дисциплины, и не затрагивает законодательные аспекты вопроса, рекомендуется обратиться к уставам и официальным документам образовательных учреждений для уточнения информации, актуальной для конкретной образовательной среды.\n"
          ]
        }
      ]
    },
    {
      "cell_type": "code",
      "source": [
        "answer('что такое пуд? расскажи подробнее')"
      ],
      "metadata": {
        "colab": {
          "base_uri": "https://localhost:8080/",
          "height": 157
        },
        "id": "2jJcW1ZzYwze",
        "outputId": "34f861d8-a6e5-45a5-a044-6a1c4183f937"
      },
      "execution_count": null,
      "outputs": [
        {
          "output_type": "execute_result",
          "data": {
            "text/plain": [
              "'В представленном тексте говорится о процессе и правилах проведения контроля знаний студентов и промежуточной аттестации. Из вопроса становится ясно, что ПУД — предметно-учебная дисциплина ( **п** редметно- **у** чебная **д** исциплина). Это документ, который описывает содержание, процесс и результаты обучения по дисциплине, включающее различные виды контроля и оценки знаний студентов.\\nВ этом тексте описываются следующие ключевые моменты, связанные с ПУД:\\n* обязанность ПУД предоставлять студентам возможность одной **повторной сдачи** до сессии для определённых видов контролирующих работ, проводившихся ранее десятидневного срока сессии;  \\n* **повторные сдачи** организуются по аналогии с первым представлением работы и могут быть регламентированы ПУД;\\n* важность учёта в ПУД возможности повторной сдачи, если элемент контроля имеет **вес 30% и больше** в итоговой оценке;   \\n* возможность изменения оценки части студентов по результатам промежуточной аттестации и **освобождение их от прохождения экзаменов**;  \\n* требование о наличии записи **видео или аудио** при проведении экзаменов и других блокирующих элементов контроля в университете с целью обеспечения прозрачности процесса и разбирательств **апелляционных комиссий**.\\nКак можно заключить из представленных положений, ПУД представляет собой документ, охватывающий широкий спектр вопросов, связанных с контролем успеваемости, организацией учебного процесса, возможностью пересдач и обоснованной системой оценок.'"
            ],
            "application/vnd.google.colaboratory.intrinsic+json": {
              "type": "string"
            }
          },
          "metadata": {},
          "execution_count": 73
        }
      ]
    },
    {
      "cell_type": "code",
      "source": [
        "answer('я иностранный студент, что мне нужно знать для обучения в НИУ ВШЭ?')"
      ],
      "metadata": {
        "id": "axt6JZLt1Yzh",
        "colab": {
          "base_uri": "https://localhost:8080/",
          "height": 157
        },
        "outputId": "cd7f249a-78ca-4fba-d4e6-f0ea468d693e"
      },
      "execution_count": null,
      "outputs": [
        {
          "output_type": "execute_result",
          "data": {
            "text/plain": [
              "'Вот мой ответ студенту, основанный на информации из предоставленного текста:\\n\\nЕсли вы иностранный студент и планируете обучаться в НИУ ВШЭ, вам необходимо учесть следующие аспекты:\\n\\n**1. Определите, к какому из направлений подготовки относится образовательная программа, на которую вы зачислены.** От этого будет зависеть возможность подачи документов для зачисления в другие кампусы университета, а также в Региональные кампусы ВШЭ.\\n**2. Ознакомьтесь с требованиями НИУ ВШЭ к процедуре экзамена**. Это включает обязательство не использовать звукозаписывающее оборудование, мобильные телефоны, а также не распространять информацию по вопросам экзаменационного задания или нарушать порядок и дисциплину во время процедуры.\\n**3. Убедитесь, что вы понимаете особенности перезачета учебной программы**. Студент может перезачесть эту дисциплину по внутренней системе ЭИОС НИУ ВШЭ без дальнейшего перевода на договор обучения. Если же у студента академическая задолженность на эту или другую дисциплину, решение принимается на основании Положения НИУ ВШЭ от 28.08.21, п. 2.\\n**4. Изучите особые условия для иностранных студентов**. Узнать эти условия вы можете в новой редакции Положения о предоставлении академических отпусков и академической мобильности студентов НИУ ВШЭ с 01.03.24 г.\\nЧто касается международных экзаменов по английскому языку, пройденных вами ранее, которые могут повлиять на изучение обязательных дисциплин и сдачу экзаменов IELTS или TOEFL, изучите внутренние акты НИУ ВШЭ для определения ваших прав.\\nКроме того, будьте внимательны к изменениям в документации и соглашениях, поскольку они часто проходят обновления.\\nВыше представлено краткое обобщение информации в предоставленных материалах. Для более конкретных ответов обратитесь к первоисточникам. Они помогут вам понять все необходимые детали и ответить на ваши вопросы.'"
            ],
            "application/vnd.google.colaboratory.intrinsic+json": {
              "type": "string"
            }
          },
          "metadata": {},
          "execution_count": 74
        }
      ]
    },
    {
      "cell_type": "code",
      "source": [
        "answer('Я не удовлетворен полученной оценкой, могу ли я подать аппеляцию? Можно ли аппелировать оценку 9?').replace('\\n', '').replace('*', '')"
      ],
      "metadata": {
        "colab": {
          "base_uri": "https://localhost:8080/",
          "height": 53
        },
        "id": "DgXrUxBvFDrV",
        "outputId": "fe4aed0b-cdd9-4d92-b505-7166f68db948"
      },
      "execution_count": null,
      "outputs": [
        {
          "output_type": "execute_result",
          "data": {
            "text/plain": [
              "'На основе предоставленных данных можно сделать вывод, что студент имеет право подать апелляцию на оценку 8 и ниже по итогам блокирующего элемента курса, экзамена, а также в некоторых случаях на оценку 9, перечисленных в пункте 111'"
            ],
            "application/vnd.google.colaboratory.intrinsic+json": {
              "type": "string"
            }
          },
          "metadata": {},
          "execution_count": 75
        }
      ]
    },
    {
      "cell_type": "code",
      "source": [
        "answer('Могу ли я подать аппеляцию если моя оценка 9?').replace('\\n', '').replace('*', '')"
      ],
      "metadata": {
        "id": "s32Sa_dKGD5N",
        "colab": {
          "base_uri": "https://localhost:8080/",
          "height": 53
        },
        "outputId": "4b949e4d-fe36-418b-cc20-654c33bbe1a7"
      },
      "execution_count": null,
      "outputs": [
        {
          "output_type": "execute_result",
          "data": {
            "text/plain": [
              "'Если вас интересует вопрос, можете ли вы подать апелляцию, если ваша оценка 9, то, исходя из предоставленного документа, можно сказать, что в этом документе не содержится прямого ответа на этот вопрос. Согласно п. 111'"
            ],
            "application/vnd.google.colaboratory.intrinsic+json": {
              "type": "string"
            }
          },
          "metadata": {},
          "execution_count": 76
        }
      ]
    },
    {
      "cell_type": "code",
      "source": [
        "answer(\"ПОПАТКУС это что?\")"
      ],
      "metadata": {
        "colab": {
          "base_uri": "https://localhost:8080/",
          "height": 157
        },
        "id": "Ou3IPfW2HEfT",
        "outputId": "9adc11bc-1202-4cc7-96c6-dd4c1a419d43"
      },
      "execution_count": null,
      "outputs": [
        {
          "output_type": "execute_result",
          "data": {
            "text/plain": [
              "'ПОПА́ТКУС — вероятно, аббревиатура, под которой в тексте объединены правила, регулирующие образовательный процесс в НИУ ВШЭ, упрощённо названные **П**орядок применения **О**ценочных **П**оказателей **А**кадемической **Т**рудовой **У**спешности и **С**истема **К**ритериев её **О**ценки — сокращённо ПОПАТУСК. Более подробная информация по этому вопросу представлена в приложенном к постановлению тексте, начиная со слайда [14](https://m.vk.com/wall-21390557_117495), представленного в качестве ответа на Ваш запрос. Информация об этом размещена в открытом доступе и актуальной на момент ответа редакции документа: https://www.hse.ru/data/2022/02/10/1803384140/Popatkus_%D0%A0%D1%83%D0%B1%D1%80%D0%BE%D0%BA%D0%BC%D0_20212026.docgsc.tab=0). Этот публикуемый официально документ имеет необходимые подписи и печати. Головным органом, уполномоченным на издание этого документа, является учёный совет НИУ ВШЭ. В данный момент Вы можете увидеть актуальные комментарии к нему на ресурсе [ostanenkovd.github.io/posts/202: Le Havre 2, контакты и ссылки (https://ostanenkov.medium.com/post/le-havre-2-2fc966bbef04). Доступ к тексту свободно распространяемого ответа ограничен из этических соображений.\\n\\nВременно оставляю без ответа вопрос из текста без точной расшифровки аббревиатуры, поскольку имею мало опыта в данном предмете и не уверен в правомерности её признания в опубликованном тексте. Выражаю почтение серьёзным юридическим факультетам и надеюсь на компетентность Ваших преподавателей, сохраняющей моё упорство при генерации дальнейших ответов на ваш запрос.'"
            ],
            "application/vnd.google.colaboratory.intrinsic+json": {
              "type": "string"
            }
          },
          "metadata": {},
          "execution_count": 77
        }
      ]
    },
    {
      "cell_type": "markdown",
      "source": [
        "# Metrics"
      ],
      "metadata": {
        "id": "39a9YyeJi4cN"
      }
    },
    {
      "cell_type": "markdown",
      "source": [
        "## Метрики ранжирования, precision"
      ],
      "metadata": {
        "id": "UxkFeS1l2w3I"
      }
    },
    {
      "cell_type": "markdown",
      "source": [
        "### MAP@k"
      ],
      "metadata": {
        "id": "4ZNdUMiBP7_L"
      }
    },
    {
      "cell_type": "code",
      "source": [
        "def apk(actual, predicted, k=10):\n",
        "    \"\"\"\n",
        "    Вычисляет среднюю точность на уровне k (AP@K) для одного запроса.\n",
        "\n",
        "    :param actual: список релевантных элементов\n",
        "    :param predicted: список предсказанных элементов\n",
        "    :param k: количество топ элементов для учета в метрике\n",
        "    :return: AP@K для данного запроса\n",
        "    \"\"\"\n",
        "    if len(predicted) > k:\n",
        "        predicted = predicted[:k]\n",
        "\n",
        "    score = 0.0\n",
        "    num_hits = 0.0\n",
        "\n",
        "    for i, p in enumerate(predicted):\n",
        "        if p in actual and p not in predicted[:i]:\n",
        "            num_hits += 1.0\n",
        "            score += num_hits / (i + 1.0)\n",
        "\n",
        "    if not actual:\n",
        "        return 0.0\n",
        "\n",
        "    return score / min(len(actual), k)\n",
        "\n",
        "def mapk(actual, predicted, k=10):\n",
        "    \"\"\"\n",
        "    Вычисляет среднюю точность на уровне k (MAP@K) по всем запросам.\n",
        "\n",
        "    :param actual: список списков релевантных элементов\n",
        "    :param predicted: список списков предсказанных элементов\n",
        "    :param k: количество топ элементов для учета в метрике\n",
        "    :return: MAP@K по всем запросам\n",
        "    \"\"\"\n",
        "    return sum(apk(a, p, k) for a, p in zip(actual, predicted)) / len(actual)\n",
        "\n",
        "# Пример использования\n",
        "actual = [[1, 2, 3], [1, 2, 3, 4], [1, 2]]\n",
        "predicted = [[1, 2, 4], [4, 1, 2, 3], [1, 2, 3]]\n",
        "k = 3\n",
        "\n",
        "print(\"MAP@K:\", mapk(actual, predicted, k))\n"
      ],
      "metadata": {
        "colab": {
          "base_uri": "https://localhost:8080/"
        },
        "id": "wCNp80api58h",
        "outputId": "f0ca868b-5ccd-416c-b59b-c6b6b63ef5e8"
      },
      "execution_count": null,
      "outputs": [
        {
          "output_type": "stream",
          "name": "stdout",
          "text": [
            "MAP@K: 0.8888888888888888\n"
          ]
        }
      ]
    },
    {
      "cell_type": "code",
      "source": [
        "# Запросы\n",
        "queries = [\"Может ли студент исправить оценку по блокирующему элементу контроля?\",\n",
        "           \"Влияет ли положительная пересдача блокирующего элемента контроля на итоговую оценку студента?\",\n",
        "           \"Каковы последствия получения неудовлетворительной оценки по блокирующему элементу контроля?\"]\n",
        "\n",
        "# Получение релевантных документов для каждого запроса\n",
        "results = [retriever.get_relevant_documents(query) for query in queries]\n",
        "\n",
        "# Преобразование результатов в формат, необходимый для MAP@k\n",
        "predicted = [[doc.page_content for doc in result] for result in results]\n"
      ],
      "metadata": {
        "id": "KZSDBhu2aKyU"
      },
      "execution_count": null,
      "outputs": []
    },
    {
      "cell_type": "code",
      "source": [
        "results"
      ],
      "metadata": {
        "colab": {
          "base_uri": "https://localhost:8080/"
        },
        "id": "FGhFGFKv0x68",
        "outputId": "e42dbe9c-9cb7-4ec3-a211-5a5e0e786d6c"
      },
      "execution_count": null,
      "outputs": [
        {
          "output_type": "execute_result",
          "data": {
            "text/plain": [
              "[[Document(page_content='Блокирующий Элемент контроля – элемент контроля, неудовлетворительная оценка по которому приравнивается к оценке по промежуточной аттестации или по части накопленной оценки до тех пор, пока студент не получит положительную оценку по блокирующему Элементу контроля. Когда студент получит положительную оценку по блокирующему Элементу контроля (сразу или на пересдаче), промежуточная оценка (либо ее часть) рассчитывается с учетом полученной положительной оценки по блокирующему Элементу контроля. Академическая задолженность – неудовлетворительная оценка по промежуточной аттестации по Дисциплине (ниже 4 баллов по 10-балльной шкале) и (или) непрохождение промежуточной аттестации по Дисциплине либо обязательной внешней оценки, предусмотренной учебным планом образовательной программы или распорядительным актом уполномоченного должностного лица при отсутствии уважительных причин. Синхронный Элемент контроля – элемент контроля, который выполняется согласно расписанию занятий, в том числе с подключением преподавателя по телекоммуникационной сети.', metadata={'vector': array([-3.33862305e-02, -1.73187256e-02, -2.58026123e-02,  6.04248047e-02,\n",
              "          4.30603027e-02, -5.62744141e-02,  7.52563477e-02, -2.13928223e-02,\n",
              "         -2.60314941e-02, -1.46240234e-01,  8.80737305e-02,  5.77926636e-03,\n",
              "          1.08947754e-02,  5.64880371e-02, -5.27038574e-02, -2.86407471e-02,\n",
              "         -2.39257812e-02, -4.90722656e-02, -3.32641602e-02, -2.36053467e-02,\n",
              "          1.16638184e-01, -9.34600830e-03,  4.10461426e-02,  6.07604980e-02,\n",
              "         -1.09939575e-02,  4.89501953e-02,  2.33612061e-02, -1.20117188e-01,\n",
              "          5.00488281e-02, -6.06994629e-02, -1.02478027e-01, -4.24194336e-02,\n",
              "         -1.29638672e-01, -5.00679016e-05,  1.43356323e-02,  6.35986328e-02,\n",
              "          5.44433594e-02, -1.42135620e-02, -5.43823242e-02, -2.33612061e-02,\n",
              "          4.33654785e-02, -1.22299194e-02,  7.37915039e-02,  4.04052734e-02,\n",
              "         -4.61425781e-02,  1.00646973e-01,  4.33654785e-02, -1.10931396e-02,\n",
              "         -6.46362305e-02,  5.20629883e-02, -8.91723633e-02,  2.64892578e-02,\n",
              "          7.59887695e-02,  4.84008789e-02,  3.38134766e-02,  1.09680176e-01,\n",
              "         -5.36804199e-02,  3.48205566e-02, -1.59759521e-02, -4.25720215e-02,\n",
              "          1.00936890e-02, -2.57568359e-02,  7.01293945e-02,  2.13775635e-02,\n",
              "          2.57263184e-02,  7.11059570e-02,  2.66265869e-02,  6.14929199e-02,\n",
              "          1.61621094e-01, -2.65045166e-02, -5.12695312e-02,  1.35116577e-02,\n",
              "          1.70421600e-03,  9.53979492e-02, -4.04968262e-02,  3.78417969e-02,\n",
              "         -9.30786133e-03, -2.34527588e-02,  5.34057617e-02,  1.00936890e-02,\n",
              "         -6.84204102e-02,  6.76269531e-02,  1.17126465e-01, -1.23535156e-01,\n",
              "          1.31454468e-02,  8.04443359e-02,  8.50677490e-03,  3.42712402e-02,\n",
              "          1.56173706e-02, -1.06933594e-01,  3.95965576e-03,  4.25109863e-02,\n",
              "          1.53198242e-02, -1.40533447e-02, -2.16674805e-03,  8.28857422e-02,\n",
              "          1.48315430e-01, -1.15112305e-01, -6.43920898e-02,  1.03759766e-03,\n",
              "          2.28118896e-02,  3.10134888e-03, -4.62341309e-02,  1.30737305e-01,\n",
              "         -3.00140381e-02, -7.15637207e-03, -1.08108521e-02, -1.34155273e-01,\n",
              "          3.44848633e-02, -5.67016602e-02, -1.91040039e-02, -4.35485840e-02,\n",
              "         -1.83105469e-02,  1.78375244e-02, -1.21154785e-01, -1.56097412e-02,\n",
              "         -6.32934570e-02,  5.72204590e-03, -1.22299194e-02,  8.09478760e-03,\n",
              "         -7.20825195e-02, -2.24609375e-02, -3.35121155e-03, -1.52359009e-02,\n",
              "         -1.16882324e-01,  6.03485107e-03,  1.24664307e-02, -1.39465332e-02,\n",
              "         -2.71911621e-02, -4.23583984e-02, -2.56347656e-02,  4.97741699e-02,\n",
              "         -2.03247070e-02, -9.05761719e-02,  4.32205200e-03,  8.89892578e-02,\n",
              "          9.78393555e-02,  4.69055176e-02,  2.27355957e-02,  3.02505493e-03,\n",
              "          6.73217773e-02,  2.22473145e-02,  2.19268799e-02, -5.67932129e-02,\n",
              "          4.28466797e-02,  2.08587646e-02, -3.83300781e-02,  3.53393555e-02,\n",
              "         -6.87866211e-02,  1.08581543e-01, -2.06420898e-01, -7.17163086e-03,\n",
              "         -4.37545776e-03,  8.23364258e-02,  2.63671875e-02, -3.19213867e-02,\n",
              "          3.51257324e-02, -4.69055176e-02,  3.36303711e-02,  1.18591309e-01,\n",
              "          6.12792969e-02, -4.45556641e-02, -1.14196777e-01, -1.07727051e-02,\n",
              "         -1.00769043e-01, -1.14669800e-02, -8.69140625e-02, -3.53393555e-02,\n",
              "          5.44433594e-02, -4.56542969e-02,  2.31170654e-03,  2.01797485e-03,\n",
              "          6.89086914e-02, -1.13098145e-01,  1.57958984e-01,  1.18637085e-02,\n",
              "         -8.52661133e-02, -5.20019531e-02,  2.20031738e-02,  1.45912170e-03,\n",
              "          1.24023438e-01, -1.88140869e-02,  6.08215332e-02, -2.25524902e-02,\n",
              "          7.22045898e-02,  5.48095703e-02, -6.43310547e-02, -7.72094727e-02,\n",
              "         -7.91168213e-03,  4.77600098e-02,  1.65710449e-02,  6.17980957e-02,\n",
              "         -9.94873047e-02, -2.44598389e-02, -3.43322754e-02, -7.98034668e-03,\n",
              "          8.61206055e-02,  4.38537598e-02,  2.06184387e-03, -1.73187256e-02,\n",
              "          2.18658447e-02,  1.07543945e-01,  4.42504883e-02, -1.52053833e-02,\n",
              "         -5.05981445e-02,  5.28564453e-02,  6.51245117e-02, -5.69458008e-02,\n",
              "         -4.16870117e-02,  1.02539062e-01,  6.56127930e-02,  3.23181152e-02,\n",
              "         -2.93579102e-02,  4.88586426e-02, -2.90069580e-02,  6.64672852e-02,\n",
              "          4.02526855e-02, -1.14318848e-01, -9.42382812e-02, -2.15759277e-02,\n",
              "         -1.64184570e-01,  5.23986816e-02, -4.16564941e-03,  6.04553223e-02,\n",
              "         -1.03515625e-01,  6.50634766e-02, -2.64739990e-03,  6.83593750e-02,\n",
              "         -1.42456055e-01,  1.02615356e-02, -2.49099731e-03, -2.82478333e-03,\n",
              "         -2.60162354e-02,  1.21643066e-01,  3.16772461e-02, -3.03497314e-02,\n",
              "          3.69873047e-02,  4.73022461e-02, -1.07788086e-01,  8.06884766e-02,\n",
              "          8.06884766e-02,  7.37380981e-03,  5.59387207e-02,  4.41284180e-02,\n",
              "          6.50024414e-02,  3.66210938e-02,  2.39562988e-02, -1.08764648e-01,\n",
              "          6.61621094e-02, -2.03094482e-02,  2.45971680e-02, -2.52838135e-02,\n",
              "          1.00585938e-01,  4.61425781e-02,  5.87158203e-02,  3.36608887e-02],\n",
              "        dtype=float32), 'id': 'd285bd6e-abd4-4247-9224-2e860da280e1', '_distance': 0.7744162678718567}),\n",
              "  Document(page_content='Среди элементов контроля могут быть такие, которые повторить невозможно, их совокупный вес —\\xa0 не более 30 процентов. При получении по таким элементам низких оценок ничего улучшить нельзя. Типовой пример такого элемента контроля, который не повторяется, — учет посещаемости. Преподавателей, которые используют такой элемент контроля в своих программах дисциплин, — не более 15 процентов.', metadata={'vector': array([-0.05682373,  0.01994324, -0.01528931,  0.01960754,  0.06756592,\n",
              "         -0.13220215,  0.10424805, -0.02784729,  0.07800293, -0.02786255,\n",
              "          0.11499023, -0.01232147,  0.02116394,  0.07543945, -0.03674316,\n",
              "          0.00207901,  0.0006094 , -0.05197144, -0.05615234, -0.02078247,\n",
              "          0.07470703,  0.03601074,  0.04693604, -0.0425415 ,  0.02215576,\n",
              "          0.05780029, -0.04638672, -0.16369629,  0.03637695, -0.10083008,\n",
              "         -0.09197998, -0.10668945, -0.09643555, -0.00037837,  0.00572205,\n",
              "         -0.08215332,  0.06793213, -0.02256775,  0.0166626 , -0.04205322,\n",
              "          0.00275612, -0.04864502, -0.04025269,  0.06192017, -0.01800537,\n",
              "          0.1340332 ,  0.01198578, -0.00754547, -0.00287437,  0.06237793,\n",
              "         -0.03701782,  0.10400391,  0.08215332,  0.10046387,  0.04656982,\n",
              "          0.10900879, -0.04190063,  0.01823425, -0.0703125 , -0.03143311,\n",
              "          0.02363586, -0.08044434, -0.02737427, -0.081604  ,  0.03283691,\n",
              "          0.08355713,  0.08496094, -0.00855255,  0.23876953,  0.01927185,\n",
              "         -0.00786591,  0.07104492,  0.04208374,  0.09173584, -0.05450439,\n",
              "          0.00485229, -0.02580261, -0.06726074,  0.01467133, -0.03390503,\n",
              "         -0.12109375,  0.07781982,  0.14880371, -0.01895142, -0.07452393,\n",
              "         -0.00264359,  0.03219604, -0.01638794,  0.02430725, -0.08947754,\n",
              "         -0.00204086,  0.04827881, -0.03875732, -0.06640625, -0.04067993,\n",
              "          0.09643555,  0.14660645, -0.14953613, -0.0524292 , -0.06335449,\n",
              "         -0.02537537,  0.05072021, -0.02960205,  0.10205078, -0.00431061,\n",
              "          0.0300293 , -0.01056671, -0.0993042 ,  0.01131439, -0.03948975,\n",
              "         -0.02081299, -0.0085907 , -0.09002686,  0.08831787, -0.0803833 ,\n",
              "         -0.01580811, -0.04882812,  0.04382324, -0.02716064,  0.01130676,\n",
              "          0.04119873,  0.02583313,  0.02203369,  0.0451355 , -0.12316895,\n",
              "          0.0219574 , -0.0461731 ,  0.02484131, -0.04492188,  0.00090599,\n",
              "         -0.09362793,  0.02102661,  0.01509094, -0.1105957 , -0.04428101,\n",
              "          0.01676941,  0.07177734,  0.03710938,  0.02604675,  0.01092529,\n",
              "          0.00844574,  0.06097412, -0.01760864,  0.01011658,  0.0385437 ,\n",
              "          0.00613403, -0.02389526,  0.00255013, -0.06646729,  0.11132812,\n",
              "         -0.12322998,  0.00741577, -0.02589417,  0.09283447, -0.00128651,\n",
              "         -0.00575638,  0.02653503, -0.05599976,  0.01286316,  0.11199951,\n",
              "          0.01312256, -0.02139282, -0.05380249,  0.05822754, -0.05517578,\n",
              "         -0.03302002, -0.11920166,  0.0025444 ,  0.00035   , -0.06222534,\n",
              "          0.02536011, -0.01585388,  0.00846863, -0.0980835 ,  0.10418701,\n",
              "          0.00276756, -0.09179688,  0.02838135,  0.00366783, -0.01002502,\n",
              "          0.06439209, -0.00819397,  0.06451416,  0.04788208, -0.01768494,\n",
              "          0.01489258, -0.05102539, -0.02786255, -0.02478027,  0.0305481 ,\n",
              "          0.00793457,  0.07922363, -0.12670898,  0.02220154, -0.07965088,\n",
              "          0.0176239 ,  0.15820312, -0.0397644 , -0.04040527, -0.00538635,\n",
              "         -0.05453491, -0.0262146 ,  0.06033325, -0.07055664, -0.03659058,\n",
              "          0.06634521,  0.07647705, -0.03060913, -0.06896973,  0.01852417,\n",
              "         -0.0060997 ,  0.03134155,  0.06756592,  0.04415894, -0.06268311,\n",
              "          0.05474854, -0.01364136, -0.02915955, -0.05551147, -0.05203247,\n",
              "         -0.09509277,  0.00142956, -0.00208473,  0.03942871, -0.12493896,\n",
              "          0.08172607, -0.0284729 ,  0.00967407, -0.15405273,  0.08483887,\n",
              "         -0.05819702,  0.00171757, -0.11602783,  0.07293701,  0.02658081,\n",
              "         -0.02139282, -0.00964355,  0.01908875, -0.07000732,  0.00882721,\n",
              "          0.09960938, -0.01130676,  0.05789185,  0.0249939 ,  0.07727051,\n",
              "          0.04107666,  0.02252197, -0.13012695,  0.0526123 ,  0.00509262,\n",
              "          0.0513916 , -0.04470825,  0.0526123 ,  0.03039551, -0.00264359,\n",
              "          0.05212402], dtype=float32), 'id': '81c1b6e9-3987-4a70-97a1-7ee495e00917', '_distance': 0.8250854015350342}),\n",
              "  Document(page_content='27. Любой Элемент контроля (в том числе экзамен)2, может быть блокирующим. Если блокирующий Элемент контроля блокирует какую-то часть промежуточной оценки, то эта часть должна быть определена в ПУД при описании системы оценивания. 28.', metadata={'vector': array([-0.03277588,  0.06274414,  0.00203514,  0.05841064,  0.0574646 ,\n",
              "         -0.14099121,  0.10113525, -0.03108215, -0.01557922, -0.08483887,\n",
              "          0.06195068,  0.02355957,  0.03482056,  0.03536987, -0.06939697,\n",
              "         -0.03189087, -0.01731873, -0.00639343, -0.02528381, -0.02696228,\n",
              "          0.15734863, -0.01792908,  0.02987671, -0.03050232,  0.01511383,\n",
              "          0.05056763,  0.00710297, -0.08618164,  0.03283691, -0.05737305,\n",
              "         -0.11309814, -0.10754395, -0.09222412,  0.00566483, -0.01896667,\n",
              "          0.00145054,  0.01754761, -0.01141357, -0.03079224, -0.07940674,\n",
              "          0.02711487, -0.00078344,  0.04403687,  0.01091766, -0.02435303,\n",
              "          0.05102539,  0.02981567, -0.07250977, -0.06451416, -0.01385498,\n",
              "         -0.05905151,  0.04577637,  0.05151367,  0.10430908, -0.02203369,\n",
              "          0.140625  , -0.11175537,  0.0196228 , -0.04315186, -0.07928467,\n",
              "          0.01187134, -0.08441162,  0.0038681 , -0.02713013,  0.02148438,\n",
              "          0.05169678,  0.07940674,  0.03004456,  0.1829834 , -0.06408691,\n",
              "         -0.04244995,  0.05429077, -0.00254822,  0.05514526, -0.03408813,\n",
              "          0.00561905,  0.00076199, -0.01403046,  0.03634644, -0.02392578,\n",
              "         -0.07342529,  0.0848999 ,  0.11199951, -0.1237793 , -0.06634521,\n",
              "          0.04217529, -0.02799988,  0.01225281,  0.00764847, -0.08294678,\n",
              "          0.00066185,  0.13049316, -0.01161957, -0.02168274, -0.04321289,\n",
              "          0.09082031,  0.15222168, -0.13769531, -0.00226784, -0.05703735,\n",
              "          0.01450348,  0.03921509, -0.04095459,  0.12512207,  0.00233841,\n",
              "         -0.00809479, -0.00490952, -0.12164307,  0.00425339, -0.07189941,\n",
              "         -0.02990723,  0.00274467,  0.00858307,  0.06756592, -0.05209351,\n",
              "         -0.03616333, -0.04537964,  0.03283691,  0.0062561 , -0.03381348,\n",
              "         -0.02490234, -0.07696533, -0.03155518,  0.00736237, -0.15795898,\n",
              "          0.04153442, -0.01252747,  0.05151367,  0.00363731, -0.04058838,\n",
              "         -0.08374023,  0.02230835, -0.05038452, -0.04342651, -0.00814819,\n",
              "          0.03695679,  0.11181641,  0.03207397,  0.01506042,  0.01279449,\n",
              "          0.00585175,  0.0737915 ,  0.06939697, -0.02345276,  0.01216125,\n",
              "          0.06964111, -0.03387451, -0.00889587, -0.07348633,  0.10375977,\n",
              "         -0.16247559,  0.03411865, -0.04400635,  0.05148315, -0.05831909,\n",
              "          0.0014267 ,  0.07025146, -0.0645752 ,  0.04315186,  0.11425781,\n",
              "          0.0486145 , -0.07989502, -0.03405762, -0.00590515, -0.16174316,\n",
              "         -0.0236969 , -0.11846924,  0.00058174,  0.00489426, -0.00280952,\n",
              "         -0.04278564, -0.03102112,  0.02522278, -0.09265137,  0.10137939,\n",
              "          0.0241394 , -0.09936523, -0.01576233,  0.02360535, -0.0294342 ,\n",
              "          0.09973145, -0.08111572,  0.05844116, -0.00208664,  0.02087402,\n",
              "          0.0402832 , -0.0848999 , -0.03552246,  0.06719971, -0.00754929,\n",
              "         -0.02235413,  0.1229248 , -0.07513428, -0.01557159, -0.0703125 ,\n",
              "          0.00924683,  0.10693359, -0.06811523,  0.01799011, -0.04882812,\n",
              "          0.01786804,  0.06713867,  0.01275635,  0.01422882, -0.00405502,\n",
              "          0.06665039, -0.00056076, -0.0239563 , -0.08825684, -0.00775909,\n",
              "         -0.00991821,  0.06628418, -0.03155518,  0.03796387, -0.00491714,\n",
              "          0.05267334,  0.0317688 , -0.09466553, -0.06982422, -0.0171814 ,\n",
              "         -0.12988281,  0.07495117,  0.0008893 ,  0.07733154, -0.09680176,\n",
              "          0.10754395,  0.00317574,  0.02735901, -0.13122559,  0.06652832,\n",
              "         -0.00293922,  0.01803589, -0.04931641,  0.03192139,  0.04980469,\n",
              "          0.00827026,  0.04284668,  0.05725098, -0.06542969,  0.02719116,\n",
              "          0.10894775, -0.01508331,  0.07641602,  0.04141235,  0.06744385,\n",
              "          0.06182861,  0.01051331, -0.15600586,  0.06304932,  0.02093506,\n",
              "         -0.00029755, -0.00020075,  0.11352539, -0.00379372,  0.01930237,\n",
              "          0.0473938 ], dtype=float32), 'id': '80b16a87-ae02-4484-89b4-d7b7fde9d517', '_distance': 0.8320125937461853}),\n",
              "  Document(page_content='Использование материалов, не предусмотренных указанным перечнем, или, напротив, явно запрещенных к использованию, а также попытка общения с другими студентами или иными лицами, в том числе с применением электронных средств связи, несанкционированные перемещения студентов, наличие у студента запрещенных преподавателем электронных средств связи, намеренное отключение от видеоконференции или переключение вкладки браузера при явном запрете преподавателя и иные нарушения студентом объявленного порядка проведения Элемента контроля являются основанием для прекращения проведения Элемента контроля для конкретного студента (удаление из аудитории, отключение от видеоконференции и иное) и проставления оценки «0» за Элемент контроля. 39. Студент обязан явиться на Элемент контроля в указанное в расписании либо более точно установленное преподавателем (в случае устного Элемента контроля) время. В случае дистанционного проведения Элемента контроля студент обязан подключиться к видеоконференции, загрузить файл в ЭИОС, завершить тест или иным', metadata={'vector': array([-6.02722168e-02,  4.13818359e-02,  3.09295654e-02,  2.86712646e-02,\n",
              "          3.36303711e-02, -5.45959473e-02,  6.39038086e-02, -1.51977539e-02,\n",
              "          5.07202148e-02, -1.57592773e-01,  1.06140137e-01,  1.66988373e-03,\n",
              "          5.97229004e-02,  4.43725586e-02, -4.82482910e-02, -3.65257263e-03,\n",
              "         -1.74255371e-02, -4.22668457e-02,  6.53862953e-05,  2.88543701e-02,\n",
              "          7.70874023e-02,  3.17382812e-02,  8.64868164e-02, -8.81958008e-03,\n",
              "         -1.06620789e-03,  1.61437988e-02,  3.45153809e-02, -8.72802734e-02,\n",
              "          2.20031738e-02, -2.56805420e-02, -1.47857666e-02,  4.90665436e-04,\n",
              "         -1.62353516e-01, -9.83428955e-03,  2.40325928e-02, -9.50927734e-02,\n",
              "          1.19628906e-01, -4.52270508e-02, -3.09906006e-02, -6.14929199e-02,\n",
              "         -2.71606445e-02, -4.98046875e-02,  8.95690918e-03,  4.87976074e-02,\n",
              "          7.46917725e-03,  7.23876953e-02,  5.86242676e-02,  1.83010101e-03,\n",
              "         -3.39660645e-02,  5.23376465e-02, -6.77490234e-02,  6.39038086e-02,\n",
              "          6.57348633e-02,  4.31213379e-02,  2.49633789e-02,  7.87353516e-02,\n",
              "         -7.10449219e-02,  5.26733398e-02, -2.71148682e-02, -6.86035156e-02,\n",
              "          8.77075195e-02, -3.31726074e-02, -2.98881531e-03, -1.51901245e-02,\n",
              "          7.29370117e-02,  6.87866211e-02,  1.07604980e-01,  5.62286377e-03,\n",
              "          1.71508789e-01, -6.17370605e-02, -1.29241943e-02, -2.20184326e-02,\n",
              "          5.32836914e-02,  7.91625977e-02, -2.07519531e-02,  7.00073242e-02,\n",
              "         -2.86560059e-02, -3.03039551e-02,  1.89819336e-02,  1.21231079e-02,\n",
              "         -1.15661621e-01,  2.90985107e-02,  5.35583496e-02, -9.93041992e-02,\n",
              "         -4.24194336e-03,  3.51257324e-02, -3.75061035e-02,  1.06445312e-01,\n",
              "          4.93469238e-02, -6.32934570e-02, -1.17645264e-02,  1.18652344e-01,\n",
              "          2.67486572e-02, -5.38330078e-02, -1.06933594e-01,  1.06262207e-01,\n",
              "          1.11633301e-01, -1.15905762e-01, -9.68017578e-02, -4.81796265e-03,\n",
              "          3.69567871e-02,  1.57012939e-02, -6.12792969e-02,  8.89282227e-02,\n",
              "         -3.40270996e-02,  1.64642334e-02,  1.49307251e-02, -1.58325195e-01,\n",
              "          1.95007324e-02, -4.35180664e-02, -5.00488281e-02, -8.03222656e-02,\n",
              "         -2.99987793e-02,  3.80859375e-02, -7.97119141e-02, -7.15332031e-02,\n",
              "         -8.61816406e-02,  7.12890625e-02,  1.94740295e-03, -2.93731689e-02,\n",
              "         -1.04431152e-01, -7.64083862e-03,  3.81774902e-02,  2.97393799e-02,\n",
              "         -7.73315430e-02,  3.35083008e-02,  2.26135254e-02, -7.51495361e-04,\n",
              "          1.07192993e-02, -6.46362305e-02,  2.80761719e-02,  1.06994629e-01,\n",
              "         -1.89056396e-02, -1.03332520e-01,  1.03378296e-02,  7.75146484e-02,\n",
              "          9.49096680e-02,  6.94580078e-02, -3.41176987e-04, -5.59387207e-02,\n",
              "          1.15661621e-02,  2.51617432e-02,  1.55563354e-02, -6.46972656e-02,\n",
              "          6.59942627e-03,  3.02581787e-02,  2.85034180e-02, -1.92565918e-02,\n",
              "         -6.92749023e-02,  5.70678711e-02, -1.76757812e-01, -4.48303223e-02,\n",
              "         -3.52478027e-02,  3.11889648e-02, -3.65600586e-02,  6.11267090e-02,\n",
              "          1.28784180e-02, -2.58789062e-02,  1.77154541e-02,  1.68212891e-01,\n",
              "         -1.77459717e-02, -4.96520996e-02, -5.12084961e-02,  4.99572754e-02,\n",
              "         -8.14208984e-02, -2.36129761e-03, -2.09808350e-02, -2.79388428e-02,\n",
              "          5.63049316e-03, -1.32080078e-01,  3.79028320e-02, -2.18048096e-02,\n",
              "          3.04412842e-02, -1.20117188e-01,  1.71630859e-01,  6.71386719e-02,\n",
              "         -6.48803711e-02, -2.15454102e-02, -1.87225342e-02, -5.98907471e-03,\n",
              "          1.66870117e-01, -1.84020996e-02,  5.35583496e-02, -1.31072998e-02,\n",
              "          2.71606445e-02,  1.25808716e-02, -7.26318359e-02, -2.01721191e-02,\n",
              "          8.17108154e-03,  2.58331299e-02,  7.35855103e-03,  1.15234375e-01,\n",
              "         -3.00903320e-02, -4.53491211e-02, -9.08203125e-02,  1.74407959e-02,\n",
              "          5.73730469e-02, -1.08108521e-02,  2.25067139e-03,  3.64780426e-04,\n",
              "         -3.83605957e-02,  5.67016602e-02,  6.20727539e-02, -3.58886719e-02,\n",
              "         -4.95300293e-02,  3.19213867e-02,  4.95910645e-02, -3.68347168e-02,\n",
              "         -6.13403320e-02,  8.99658203e-02, -8.37707520e-03,  3.26843262e-02,\n",
              "         -1.52206421e-02,  3.94592285e-02, -1.05381012e-04,  5.10253906e-02,\n",
              "          4.66003418e-02, -6.84204102e-02, -5.21850586e-02, -1.28295898e-01,\n",
              "         -1.37573242e-01,  1.07116699e-01,  2.48260498e-02,  1.65863037e-02,\n",
              "         -1.56127930e-01,  3.39050293e-02,  2.25982666e-02,  4.19311523e-02,\n",
              "         -1.33422852e-01,  3.72505188e-03,  1.34887695e-02, -5.67016602e-02,\n",
              "         -9.20104980e-03,  1.11694336e-02,  6.29882812e-02,  4.77905273e-02,\n",
              "          1.11083984e-02,  8.42895508e-02, -4.75463867e-02,  2.49633789e-02,\n",
              "          1.06994629e-01, -4.37622070e-02, -8.89587402e-03,  5.89904785e-02,\n",
              "          1.03149414e-01,  3.50189209e-03, -1.62811279e-02, -2.05841064e-02,\n",
              "          8.48388672e-02,  4.64248657e-03,  1.94091797e-02, -3.26156616e-03,\n",
              "          8.61816406e-02,  2.89306641e-02,  4.45251465e-02,  1.12380981e-02],\n",
              "        dtype=float32), 'id': '940e8b23-70f9-4cb6-b8ec-0fd1b4b7dde6', '_distance': 0.8376857042312622})],\n",
              " [Document(page_content='Если по Дисциплине имеются блокирующие Элементы контроля, не относящиеся к экзаменам, которые проводятся менее чем за десять календарных дней до сессии, то их повторная сдача организуется до конца сессии. Оценка по промежуточной аттестации рассчитывается только после повторной сдачи таких Элементов. Порядок организации таких повторных сдач отражается в ПУД. Повторные сдачи по таким блокирующим Элементам проводятся по КИМам и технологии, аналогичным применяемым при первом проведении этого Элемента контроля. Порядок проведения таких повторных сдач во время сессии в случае потенциального конфликта с основным расписанием сессии регулируется пунктом 57 Положения. 32. Если у студента возникает неудовлетворительная оценка по Элементу контроля по Дисциплине, то она не может быть причиной недопуска к следующим Элементам контроля (включая экзамены) по этой Дисциплине, проводимым до окончания ближайшей сессии, в которую предусмотрена промежуточная аттестация по этой Дисциплине. 33. Преподаватель имеет право незначительно корректировать', metadata={'vector': array([-2.72827148e-02,  4.26025391e-02,  9.03320312e-03,  5.36346436e-03,\n",
              "          6.72607422e-02, -7.63549805e-02,  9.85107422e-02,  2.84576416e-03,\n",
              "          3.82804871e-03, -7.03125000e-02,  1.03149414e-01,  1.28021240e-02,\n",
              "         -9.42707062e-04,  8.09936523e-02, -5.97534180e-02, -2.09999084e-03,\n",
              "         -1.39312744e-02, -2.40631104e-02,  1.47628784e-02, -4.34494019e-03,\n",
              "          7.53173828e-02, -3.02734375e-02,  8.67919922e-02, -1.40838623e-02,\n",
              "         -6.98852539e-02,  6.17980957e-02,  1.58386230e-02, -9.74731445e-02,\n",
              "          7.06176758e-02, -7.48901367e-02, -1.06872559e-01, -8.81958008e-02,\n",
              "         -1.41601562e-01, -2.03704834e-02,  8.75091553e-03, -2.17742920e-02,\n",
              "          4.37316895e-02, -6.32324219e-02, -7.07397461e-02, -8.45336914e-02,\n",
              "          5.44433594e-02, -2.15148926e-02,  6.45141602e-02,  5.12390137e-02,\n",
              "         -6.91986084e-03,  1.00463867e-01,  5.16052246e-02, -4.71496582e-02,\n",
              "         -5.95397949e-02,  7.74536133e-02, -6.34155273e-02,  8.40759277e-03,\n",
              "          4.72717285e-02,  6.92749023e-02,  4.44641113e-02,  1.02050781e-01,\n",
              "         -9.57641602e-02, -1.55258179e-02,  5.99384308e-04,  4.30297852e-03,\n",
              "          6.02416992e-02,  3.02124023e-03, -1.81579590e-02, -6.48498535e-03,\n",
              "         -1.10397339e-02,  6.05773926e-02,  1.20605469e-01, -3.07159424e-02,\n",
              "          1.92626953e-01, -6.38427734e-02,  2.27050781e-02,  2.28729248e-02,\n",
              "         -5.59692383e-02,  6.13098145e-02, -2.51159668e-02,  3.90014648e-02,\n",
              "          7.27539062e-02, -5.37109375e-02,  8.33129883e-02, -5.94177246e-02,\n",
              "         -6.35375977e-02,  3.88793945e-02,  1.29760742e-01, -7.70874023e-02,\n",
              "         -2.05841064e-02,  6.48803711e-02, -2.92205811e-02,  1.25366211e-01,\n",
              "          5.68847656e-02, -9.74121094e-02,  4.84924316e-02,  1.02050781e-01,\n",
              "          1.79138184e-02, -4.48608398e-02, -2.27508545e-02,  6.91528320e-02,\n",
              "          1.37451172e-01, -7.30590820e-02, -7.01904297e-02, -2.78015137e-02,\n",
              "         -5.06877899e-04, -2.14385986e-02,  2.30026245e-03,  1.14135742e-01,\n",
              "         -4.26330566e-02,  5.04760742e-02, -2.92358398e-02, -1.16638184e-01,\n",
              "         -2.60314941e-02, -6.87255859e-02, -4.16564941e-02, -3.17993164e-02,\n",
              "         -2.91137695e-02,  2.26440430e-02, -1.17614746e-01, -2.16369629e-02,\n",
              "         -7.15942383e-02,  8.64868164e-02, -1.80664062e-02,  1.32369995e-02,\n",
              "         -9.52148438e-02,  1.24435425e-02,  4.37927246e-02, -9.26208496e-03,\n",
              "         -1.25976562e-01,  4.78820801e-02,  6.90841675e-03,  7.22503662e-03,\n",
              "         -2.14538574e-02, -4.62951660e-02, -2.08129883e-02,  5.47485352e-02,\n",
              "         -3.00445557e-02, -1.28906250e-01,  2.36206055e-02,  5.58471680e-02,\n",
              "          8.86840820e-02,  1.33361816e-02,  3.81164551e-02, -2.64129639e-02,\n",
              "          1.90582275e-02,  4.08630371e-02,  5.81359863e-02, -5.06286621e-02,\n",
              "          4.52880859e-02, -4.53491211e-02, -3.29284668e-02, -1.41906738e-02,\n",
              "         -7.51342773e-02,  5.61828613e-02, -1.50756836e-01, -2.25524902e-02,\n",
              "         -3.30810547e-02,  2.38647461e-02,  1.99737549e-02, -1.52969360e-02,\n",
              "          5.82275391e-02, -8.25195312e-02,  1.65100098e-02,  1.69921875e-01,\n",
              "          3.28369141e-02, -2.86865234e-02, -5.49316406e-02,  1.00791454e-04,\n",
              "         -7.62939453e-02,  1.83410645e-02, -5.07507324e-02,  1.77459717e-02,\n",
              "         -1.13754272e-02, -8.92333984e-02, -1.50527954e-02, -4.61120605e-02,\n",
              "          8.38012695e-02, -1.35253906e-01,  1.03149414e-01,  1.18484497e-02,\n",
              "         -6.85424805e-02, -2.83660889e-02,  1.52359009e-02,  2.22625732e-02,\n",
              "          1.34521484e-01, -4.80041504e-02,  6.24084473e-02, -3.08799744e-03,\n",
              "         -2.99224854e-02,  6.28051758e-02, -7.52563477e-02,  1.09786987e-02,\n",
              "         -1.69467926e-03,  9.63687897e-04,  2.27050781e-02,  1.37207031e-01,\n",
              "         -9.69238281e-02,  7.52639771e-03, -4.16564941e-02,  5.50842285e-02,\n",
              "          1.17370605e-01, -2.86560059e-02, -8.01086426e-03, -5.78308105e-02,\n",
              "          1.98364258e-03,  7.91015625e-02,  5.13305664e-02, -9.01794434e-03,\n",
              "         -2.99224854e-02,  9.10644531e-02,  5.61218262e-02, -5.21850586e-02,\n",
              "         -3.71398926e-02,  1.04187012e-01,  3.75061035e-02,  1.17568970e-02,\n",
              "          8.09478760e-03,  7.29370117e-02, -4.81567383e-02,  7.64160156e-02,\n",
              "          3.12042236e-02, -5.05676270e-02, -8.02001953e-02, -4.85839844e-02,\n",
              "         -1.34033203e-01,  3.97644043e-02,  1.57165527e-02,  6.01806641e-02,\n",
              "         -1.08459473e-01,  3.71093750e-02, -4.41360474e-03,  2.85034180e-02,\n",
              "         -1.24328613e-01,  8.06427002e-03,  4.21447754e-02, -2.28576660e-02,\n",
              "         -1.71966553e-02,  7.42797852e-02,  6.77871704e-03,  1.97601318e-03,\n",
              "          6.37817383e-03, -9.49096680e-03, -8.47167969e-02, -1.56097412e-02,\n",
              "          1.30004883e-01, -1.13449097e-02,  2.98156738e-02,  4.74548340e-02,\n",
              "          7.41577148e-02,  1.33132935e-02,  9.10949707e-03, -1.09680176e-01,\n",
              "          8.45336914e-02, -3.77273560e-03,  2.13928223e-02, -2.26287842e-02,\n",
              "          1.30981445e-01,  5.05447388e-03,  2.78015137e-02,  4.82482910e-02],\n",
              "        dtype=float32), 'id': '5afa76e6-26e6-4199-8c7f-622a6d24e042', '_distance': 0.8168495893478394}),\n",
              "  Document(page_content='Если по Дисциплине имеются блокирующие Элементы контроля, которые проводятся ранее десяти календарных дней до сессии, то ПУД в обязательном порядке должна предусматривать для студентов возможность одной повторной сдачи до сессии по каждому из таких Элементов контроля. Порядок и сроки организации таких повторных сдач отражаются в ПУД. Повторные сдачи по таким блокирующим Элементам проводятся по КИМам и технологии, аналогичным применяемым при первом проведении этого Элемента контроля. 29. Если Элемент контроля имеет вес 30 % или более в оценке за промежуточную аттестацию, то ПУД в обязательном порядке должна предусматривать возможность повторной сдачи такого Элемента контроля для студентов, пропустивших Элемент контроля по уважительной причине. Порядок и сроки организации такой повторной сдачи определяются в соответствии с пунктом 28 Положения. 30. Если в качестве формулы расчета (правила определения) используется такая система, при которой невозможно определить вес того или иного Элемента контроля от оценки за промежуточную аттестацию', metadata={'vector': array([-0.01109314,  0.04846191, -0.02076721, -0.04055786,  0.05856323,\n",
              "         -0.11767578,  0.07928467,  0.03894043,  0.01794434, -0.00859833,\n",
              "          0.13256836, -0.02497864, -0.00073957,  0.07220459, -0.04888916,\n",
              "         -0.02947998,  0.03717041, -0.00840759,  0.02427673, -0.00057888,\n",
              "          0.06015015, -0.03829956,  0.07006836, -0.04934692, -0.04580688,\n",
              "          0.06185913,  0.03625488, -0.10266113,  0.07952881, -0.08087158,\n",
              "         -0.09979248, -0.0635376 , -0.09344482, -0.03067017,  0.00287247,\n",
              "         -0.02397156,  0.03887939, -0.05053711, -0.06256104, -0.11352539,\n",
              "          0.04168701,  0.00663757,  0.08892822,  0.02229309,  0.00323486,\n",
              "          0.12805176,  0.04571533, -0.01899719, -0.04605103,  0.03561401,\n",
              "         -0.05725098,  0.05892944,  0.08850098,  0.10644531,  0.03071594,\n",
              "          0.07409668, -0.11450195, -0.01750183, -0.00918579, -0.02455139,\n",
              "          0.05142212, -0.05032349, -0.06463623,  0.00178242,  0.00814819,\n",
              "          0.05465698,  0.13122559, -0.00520325,  0.22912598, -0.05197144,\n",
              "         -0.01231384,  0.02461243, -0.03588867,  0.07775879, -0.03463745,\n",
              "          0.02928162,  0.06015015, -0.08959961,  0.06304932, -0.02104187,\n",
              "         -0.08270264,  0.02679443,  0.11401367, -0.10528564,  0.03353882,\n",
              "          0.04595947, -0.0592041 ,  0.09539795,  0.02510071, -0.07281494,\n",
              "          0.04733276,  0.08752441, -0.00291634, -0.03601074, -0.0275116 ,\n",
              "          0.10418701,  0.11260986, -0.06143188, -0.06567383,  0.00485229,\n",
              "         -0.01468658, -0.00140476, -0.01322174,  0.12585449, -0.03826904,\n",
              "          0.00683594, -0.05691528, -0.10205078, -0.01246643, -0.04702759,\n",
              "         -0.06793213, -0.02952576, -0.00271416,  0.03552246, -0.0904541 ,\n",
              "          0.02194214, -0.08184814,  0.08538818,  0.01794434,  0.00725937,\n",
              "         -0.10400391,  0.00600433,  0.04818726,  0.00216675, -0.09655762,\n",
              "          0.07342529, -0.01132965,  0.06665039, -0.03265381, -0.0324707 ,\n",
              "         -0.02839661,  0.04400635,  0.00096035, -0.13623047,  0.02009583,\n",
              "          0.02778625,  0.06549072,  0.01570129, -0.00457764,  0.00895691,\n",
              "          0.01377869, -0.00883484,  0.07543945, -0.05627441, -0.0075798 ,\n",
              "         -0.01288605, -0.02781677,  0.00685501, -0.06762695,  0.05715942,\n",
              "         -0.1763916 , -0.0094223 , -0.00424576,  0.04946899, -0.02745056,\n",
              "          0.01654053,  0.05987549, -0.06195068,  0.02330017,  0.15722656,\n",
              "          0.07507324, -0.04171753, -0.07312012, -0.01826477, -0.06713867,\n",
              "          0.0292511 , -0.01203918,  0.00830078, -0.02960205, -0.13049316,\n",
              "          0.00537872, -0.05664062,  0.09515381, -0.11022949,  0.09069824,\n",
              "         -0.03811646, -0.09472656, -0.03543091, -0.01205444,  0.00855255,\n",
              "          0.14880371, -0.0546875 ,  0.03274536,  0.05776978, -0.00421906,\n",
              "          0.02076721, -0.05844116, -0.00698471, -0.01342773, -0.01907349,\n",
              "         -0.00523376,  0.11798096, -0.07696533,  0.02339172, -0.05041504,\n",
              "          0.02481079,  0.12072754, -0.01443481, -0.03646851, -0.065979  ,\n",
              "         -0.01110077,  0.05288696, -0.03314209, -0.03823853, -0.00577164,\n",
              "          0.06646729,  0.07189941, -0.03256226, -0.01676941,  0.08172607,\n",
              "         -0.01893616,  0.04724121,  0.00182343,  0.10876465, -0.06738281,\n",
              "          0.04440308,  0.02598572, -0.03900146, -0.08734131, -0.06311035,\n",
              "         -0.14172363,  0.02001953,  0.04315186,  0.08911133, -0.12548828,\n",
              "          0.06512451, -0.01628113, -0.0026207 , -0.1352539 ,  0.01931763,\n",
              "          0.02734375, -0.04241943, -0.05001831,  0.04904175,  0.02781677,\n",
              "         -0.0345459 ,  0.02697754, -0.03756714, -0.07598877, -0.01513672,\n",
              "          0.11114502, -0.01950073, -0.03262329,  0.02384949,  0.05743408,\n",
              "          0.02323914, -0.03274536, -0.11901855,  0.01168823,  0.01989746,\n",
              "         -0.00994873, -0.04385376,  0.11700439,  0.00723267,  0.04141235,\n",
              "          0.02206421], dtype=float32), 'id': 'ab43f5ed-5625-465f-a184-fd5264f88cf5', '_distance': 0.848909854888916}),\n",
              "  Document(page_content=\"Элементы контроля весом менее 30 процентов не обязательно подлежат пересдачам. Определяет возможность или невозможность преподаватель по отношению ко всем студентам, вне зависимости от того, кто платит за обучение: государство, НИУ ВШЭ или сам студент. Возможность пересдать элемент контроля фиксируется в ПУД.\\n\\nНа вопрос 'Как будет оформляться оплата услуг по договору по части образовательной программы: как дополнительное соглашение к существующему договору об образовании или как отдельный договор? Ведь в случае, если оплата происходит в рамках доп. соглашения, можно использовать на эти цели образовательный кредит, а в случае, если договор будет оформляться полностью отдельно, то нельзя. ', ответ прост: Отдельный договор по части образовательной программы.\", metadata={'vector': array([-0.02894592, -0.00084782,  0.0181427 ,  0.00172234,  0.01015472,\n",
              "         -0.12768555,  0.06341553, -0.0491333 ,  0.00911713,  0.00725937,\n",
              "          0.11157227,  0.0184021 , -0.02697754,  0.09429932, -0.09545898,\n",
              "          0.01785278,  0.04837036, -0.06365967,  0.00469208, -0.04833984,\n",
              "          0.04736328, -0.03753662, -0.01676941,  0.00299263, -0.01356506,\n",
              "          0.02684021,  0.01107025, -0.14074707,  0.03552246, -0.05737305,\n",
              "         -0.10186768, -0.07635498, -0.16845703, -0.05224609, -0.06063843,\n",
              "          0.01937866,  0.02450562, -0.06646729, -0.0463562 , -0.01687622,\n",
              "          0.02857971,  0.00983429,  0.06420898,  0.03997803, -0.00879669,\n",
              "          0.09997559,  0.07788086, -0.02598572, -0.01785278,  0.04415894,\n",
              "         -0.08251953,  0.04553223,  0.00460434,  0.05618286,  0.03808594,\n",
              "          0.10986328, -0.07354736,  0.02764893, -0.0770874 , -0.03686523,\n",
              "          0.0770874 , -0.04724121,  0.0329895 , -0.02949524,  0.02888489,\n",
              "          0.00359917,  0.1303711 , -0.02540588,  0.15283203,  0.00718307,\n",
              "          0.02624512,  0.06085205, -0.01132965,  0.00945282, -0.05175781,\n",
              "          0.03527832,  0.09320068, -0.10784912,  0.04925537,  0.03860474,\n",
              "         -0.09197998, -0.00619507,  0.10076904, -0.05966187,  0.02711487,\n",
              "         -0.00653839, -0.03994751,  0.04904175, -0.0369873 , -0.12414551,\n",
              "          0.07989502,  0.12512207, -0.00360107, -0.06121826, -0.01591492,\n",
              "          0.12182617,  0.08306885, -0.06829834, -0.05630493, -0.0113678 ,\n",
              "         -0.02035522, -0.0231781 , -0.03134155,  0.10961914, -0.06652832,\n",
              "         -0.00988007,  0.02134705, -0.1083374 ,  0.00350571, -0.12963867,\n",
              "         -0.02677917, -0.06060791, -0.07965088,  0.06069946, -0.03881836,\n",
              "          0.02555847, -0.06610107,  0.05023193, -0.05886841, -0.06124878,\n",
              "         -0.13757324, -0.02824402,  0.00837708, -0.00824738, -0.06756592,\n",
              "          0.05130005,  0.01686096,  0.07440186, -0.02401733, -0.08947754,\n",
              "          0.01954651, -0.00652313,  0.00691223, -0.15026855, -0.08673096,\n",
              "          0.01191711,  0.05166626,  0.00309372, -0.04626465,  0.05673218,\n",
              "          0.00322914,  0.00409317,  0.01908875, -0.08856201,  0.03579712,\n",
              "         -0.02816772, -0.00130272,  0.01216888, -0.08044434,  0.11334229,\n",
              "         -0.14904785, -0.03427124,  0.03878784,  0.02442932, -0.06246948,\n",
              "          0.01506042, -0.00690079, -0.12695312,  0.01434326,  0.14770508,\n",
              "         -0.00540161, -0.0579834 , -0.04745483,  0.00839233, -0.065979  ,\n",
              "          0.01753235, -0.01542664,  0.02684021, -0.01328278, -0.09222412,\n",
              "          0.01535797, -0.06951904,  0.03607178, -0.14929199,  0.0947876 ,\n",
              "          0.00700378, -0.09094238,  0.04980469, -0.05493164, -0.03482056,\n",
              "          0.07543945, -0.0513916 ,  0.02880859,  0.05599976,  0.02961731,\n",
              "          0.00186348, -0.07611084, -0.04022217,  0.00337601, -0.03652954,\n",
              "          0.01966858,  0.03192139, -0.08770752, -0.00771332,  0.0171051 ,\n",
              "          0.05227661,  0.08483887,  0.02806091, -0.03814697,  0.00624084,\n",
              "          0.01992798,  0.040802  ,  0.10491943, -0.08050537,  0.05593872,\n",
              "          0.07922363,  0.03814697, -0.05178833, -0.00429535,  0.06085205,\n",
              "         -0.0259552 ,  0.01007843,  0.04193115,  0.01216888, -0.04077148,\n",
              "          0.0304718 ,  0.03781128, -0.04980469, -0.07421875, -0.04220581,\n",
              "         -0.12188721, -0.01125336,  0.08691406,  0.02003479, -0.140625  ,\n",
              "          0.02613831, -0.07775879,  0.00312042, -0.12384033,  0.06219482,\n",
              "          0.00148869, -0.06951904, -0.08795166,  0.09851074,  0.02639771,\n",
              "         -0.04507446,  0.02696228, -0.01158905, -0.09350586, -0.00221825,\n",
              "          0.13146973, -0.05883789,  0.01579285,  0.05847168,  0.06420898,\n",
              "          0.04998779, -0.02854919, -0.07806396,  0.01745605, -0.02470398,\n",
              "          0.06530762,  0.01200867,  0.140625  ,  0.02388   ,  0.01628113,\n",
              "         -0.07159424], dtype=float32), 'id': '8bfa7035-8dac-4218-a6ad-4a5c8ff444ad', '_distance': 0.8605555891990662}),\n",
              "  Document(page_content='На вопрос \\'Что происходит с накопленной оценкой на комиссии (второй пересдаче) и почему она не \"обнуляется\"? \\', ответ прост: Обновленный текст ПОПАТКУС не содержит\\xa0нововведений\\xa0в части\\xa0накопительной системы обучения в Вышке: веса учета накопленной части не корректируются во время второй пересдачи, на\\xa0которой комиссия собирается для того, чтобы принять у студента экзамен в третий раз. Экзамен — это всего лишь один из множества других элементов контроля, учитываемых при формировании окончательной или промежуточной оценки за дисциплину по формуле расчета. Оценка за экзамен может меняться во время первой или второй пересдачи, а все остальные накопленные оценки остаются без изменений. В этом и есть смысл накопительной системы обучения в Вышке: каждый накапливает свою оценку по дисциплине,\\xa0выполняя элементы контроля, поэтому\\xa0данное правило\\xa0работает также и для студентов, которые ничего не накопили:\\xa0нулевой результат\\xa0не \"обнуляется\" и не корректируется\\xa0во время пересдачи экзамена — обратный сценарий давал бы на комиссии\\xa0нечестное', metadata={'vector': array([ 0.00962067,  0.02729797,  0.03790283,  0.01382446,  0.01753235,\n",
              "         -0.09552002,  0.07366943, -0.08532715,  0.03805542, -0.03567505,\n",
              "          0.12261963, -0.04818726, -0.05429077,  0.0892334 , -0.08435059,\n",
              "          0.06036377,  0.04211426, -0.0748291 ,  0.00067329, -0.03277588,\n",
              "          0.0859375 , -0.03198242,  0.01374817, -0.02774048, -0.05960083,\n",
              "         -0.00918579,  0.04223633, -0.05743408,  0.01913452, -0.03573608,\n",
              "         -0.15734863, -0.06396484, -0.06726074,  0.03723145, -0.00784302,\n",
              "         -0.00627518,  0.04467773, -0.06359863, -0.02922058, -0.0748291 ,\n",
              "          0.0029335 , -0.03955078,  0.08105469,  0.05249023, -0.03189087,\n",
              "          0.12469482,  0.01942444,  0.00684357,  0.00288773,  0.14904785,\n",
              "         -0.05953979,  0.02761841,  0.04412842,  0.1116333 ,  0.074646  ,\n",
              "          0.06402588, -0.037323  , -0.0480957 , -0.10906982,  0.03393555,\n",
              "          0.07159424, -0.07513428,  0.02558899, -0.04818726,  0.01982117,\n",
              "          0.0089798 ,  0.07183838, -0.01611328,  0.16479492,  0.01342773,\n",
              "          0.02972412,  0.0670166 ,  0.02549744,  0.02352905, -0.03125   ,\n",
              "          0.04129028,  0.05200195, -0.02606201,  0.17663574, -0.04663086,\n",
              "         -0.0814209 , -0.01525879,  0.12939453, -0.16479492,  0.02435303,\n",
              "         -0.03503418, -0.05056763,  0.04922485, -0.0586853 , -0.07043457,\n",
              "         -0.00225449,  0.0894165 , -0.03198242, -0.07885742,  0.0350647 ,\n",
              "          0.04550171,  0.06155396, -0.02798462, -0.03198242,  0.0148468 ,\n",
              "          0.03071594,  0.00139427, -0.02038574,  0.1161499 , -0.03839111,\n",
              "          0.00205803, -0.00569153, -0.0619812 , -0.05224609, -0.05172729,\n",
              "         -0.1026001 , -0.0158844 , -0.01074219,  0.0736084 , -0.05456543,\n",
              "         -0.04251099, -0.04226685,  0.06103516, -0.00387383, -0.06536865,\n",
              "         -0.13366699, -0.02290344,  0.0713501 ,  0.01139832, -0.05200195,\n",
              "          0.00104618,  0.0046196 , -0.04275513, -0.03056335, -0.05841064,\n",
              "          0.01940918,  0.07415771, -0.00581741, -0.11328125, -0.04006958,\n",
              "         -0.05349731, -0.01947021,  0.02781677, -0.09729004, -0.00879669,\n",
              "          0.04870605, -0.0188446 ,  0.03601074, -0.04489136,  0.00143242,\n",
              "         -0.09954834, -0.01364136, -0.03674316, -0.03155518,  0.08154297,\n",
              "         -0.16186523, -0.06835938,  0.01185608, -0.00032735,  0.02503967,\n",
              "         -0.01004791,  0.08148193, -0.14758301,  0.03793335,  0.11169434,\n",
              "          0.02687073,  0.01211548, -0.04663086,  0.01815796, -0.09747314,\n",
              "          0.04837036, -0.04290771,  0.01843262, -0.01139832, -0.0479126 ,\n",
              "         -0.07446289, -0.05761719,  0.08514404, -0.18066406,  0.03607178,\n",
              "         -0.0586853 , -0.13867188,  0.0713501 , -0.01337433, -0.02252197,\n",
              "          0.10992432, -0.1619873 , -0.02651978,  0.04348755, -0.0635376 ,\n",
              "          0.07312012, -0.02986145,  0.01498413, -0.0430603 ,  0.0333252 ,\n",
              "          0.02462769,  0.07958984, -0.09082031,  0.02128601,  0.07366943,\n",
              "          0.05255127,  0.10577393, -0.04663086,  0.04873657, -0.09881592,\n",
              "          0.09356689,  0.04769897,  0.01669312, -0.07336426,  0.03613281,\n",
              "          0.10742188,  0.03915405,  0.00870514, -0.03256226,  0.11236572,\n",
              "         -0.02706909,  0.02932739, -0.01100922,  0.04516602, -0.03921509,\n",
              "          0.10638428,  0.0496521 , -0.00023401,  0.02284241, -0.0513916 ,\n",
              "         -0.07415771,  0.02331543,  0.03317261,  0.06518555, -0.11212158,\n",
              "          0.01768494, -0.01428223,  0.02072144, -0.08215332,  0.05569458,\n",
              "         -0.00196075, -0.06915283, -0.0161438 ,  0.03369141, -0.05548096,\n",
              "         -0.0637207 , -0.04754639,  0.00345039, -0.08886719,  0.06756592,\n",
              "          0.02352905, -0.03890991,  0.05181885, -0.00872803,  0.07489014,\n",
              "          0.03915405,  0.029953  , -0.02174377, -0.0161438 , -0.05523682,\n",
              "          0.04852295,  0.02001953,  0.06292725,  0.04107666,  0.02070618,\n",
              "         -0.00917053], dtype=float32), 'id': '0eceaac1-5fcc-43ea-aac8-e4c9daa57c03', '_distance': 0.8651745319366455})],\n",
              " [Document(page_content='Блокирующий Элемент контроля – элемент контроля, неудовлетворительная оценка по которому приравнивается к оценке по промежуточной аттестации или по части накопленной оценки до тех пор, пока студент не получит положительную оценку по блокирующему Элементу контроля. Когда студент получит положительную оценку по блокирующему Элементу контроля (сразу или на пересдаче), промежуточная оценка (либо ее часть) рассчитывается с учетом полученной положительной оценки по блокирующему Элементу контроля. Академическая задолженность – неудовлетворительная оценка по промежуточной аттестации по Дисциплине (ниже 4 баллов по 10-балльной шкале) и (или) непрохождение промежуточной аттестации по Дисциплине либо обязательной внешней оценки, предусмотренной учебным планом образовательной программы или распорядительным актом уполномоченного должностного лица при отсутствии уважительных причин. Синхронный Элемент контроля – элемент контроля, который выполняется согласно расписанию занятий, в том числе с подключением преподавателя по телекоммуникационной сети.', metadata={'vector': array([-3.33862305e-02, -1.73187256e-02, -2.58026123e-02,  6.04248047e-02,\n",
              "          4.30603027e-02, -5.62744141e-02,  7.52563477e-02, -2.13928223e-02,\n",
              "         -2.60314941e-02, -1.46240234e-01,  8.80737305e-02,  5.77926636e-03,\n",
              "          1.08947754e-02,  5.64880371e-02, -5.27038574e-02, -2.86407471e-02,\n",
              "         -2.39257812e-02, -4.90722656e-02, -3.32641602e-02, -2.36053467e-02,\n",
              "          1.16638184e-01, -9.34600830e-03,  4.10461426e-02,  6.07604980e-02,\n",
              "         -1.09939575e-02,  4.89501953e-02,  2.33612061e-02, -1.20117188e-01,\n",
              "          5.00488281e-02, -6.06994629e-02, -1.02478027e-01, -4.24194336e-02,\n",
              "         -1.29638672e-01, -5.00679016e-05,  1.43356323e-02,  6.35986328e-02,\n",
              "          5.44433594e-02, -1.42135620e-02, -5.43823242e-02, -2.33612061e-02,\n",
              "          4.33654785e-02, -1.22299194e-02,  7.37915039e-02,  4.04052734e-02,\n",
              "         -4.61425781e-02,  1.00646973e-01,  4.33654785e-02, -1.10931396e-02,\n",
              "         -6.46362305e-02,  5.20629883e-02, -8.91723633e-02,  2.64892578e-02,\n",
              "          7.59887695e-02,  4.84008789e-02,  3.38134766e-02,  1.09680176e-01,\n",
              "         -5.36804199e-02,  3.48205566e-02, -1.59759521e-02, -4.25720215e-02,\n",
              "          1.00936890e-02, -2.57568359e-02,  7.01293945e-02,  2.13775635e-02,\n",
              "          2.57263184e-02,  7.11059570e-02,  2.66265869e-02,  6.14929199e-02,\n",
              "          1.61621094e-01, -2.65045166e-02, -5.12695312e-02,  1.35116577e-02,\n",
              "          1.70421600e-03,  9.53979492e-02, -4.04968262e-02,  3.78417969e-02,\n",
              "         -9.30786133e-03, -2.34527588e-02,  5.34057617e-02,  1.00936890e-02,\n",
              "         -6.84204102e-02,  6.76269531e-02,  1.17126465e-01, -1.23535156e-01,\n",
              "          1.31454468e-02,  8.04443359e-02,  8.50677490e-03,  3.42712402e-02,\n",
              "          1.56173706e-02, -1.06933594e-01,  3.95965576e-03,  4.25109863e-02,\n",
              "          1.53198242e-02, -1.40533447e-02, -2.16674805e-03,  8.28857422e-02,\n",
              "          1.48315430e-01, -1.15112305e-01, -6.43920898e-02,  1.03759766e-03,\n",
              "          2.28118896e-02,  3.10134888e-03, -4.62341309e-02,  1.30737305e-01,\n",
              "         -3.00140381e-02, -7.15637207e-03, -1.08108521e-02, -1.34155273e-01,\n",
              "          3.44848633e-02, -5.67016602e-02, -1.91040039e-02, -4.35485840e-02,\n",
              "         -1.83105469e-02,  1.78375244e-02, -1.21154785e-01, -1.56097412e-02,\n",
              "         -6.32934570e-02,  5.72204590e-03, -1.22299194e-02,  8.09478760e-03,\n",
              "         -7.20825195e-02, -2.24609375e-02, -3.35121155e-03, -1.52359009e-02,\n",
              "         -1.16882324e-01,  6.03485107e-03,  1.24664307e-02, -1.39465332e-02,\n",
              "         -2.71911621e-02, -4.23583984e-02, -2.56347656e-02,  4.97741699e-02,\n",
              "         -2.03247070e-02, -9.05761719e-02,  4.32205200e-03,  8.89892578e-02,\n",
              "          9.78393555e-02,  4.69055176e-02,  2.27355957e-02,  3.02505493e-03,\n",
              "          6.73217773e-02,  2.22473145e-02,  2.19268799e-02, -5.67932129e-02,\n",
              "          4.28466797e-02,  2.08587646e-02, -3.83300781e-02,  3.53393555e-02,\n",
              "         -6.87866211e-02,  1.08581543e-01, -2.06420898e-01, -7.17163086e-03,\n",
              "         -4.37545776e-03,  8.23364258e-02,  2.63671875e-02, -3.19213867e-02,\n",
              "          3.51257324e-02, -4.69055176e-02,  3.36303711e-02,  1.18591309e-01,\n",
              "          6.12792969e-02, -4.45556641e-02, -1.14196777e-01, -1.07727051e-02,\n",
              "         -1.00769043e-01, -1.14669800e-02, -8.69140625e-02, -3.53393555e-02,\n",
              "          5.44433594e-02, -4.56542969e-02,  2.31170654e-03,  2.01797485e-03,\n",
              "          6.89086914e-02, -1.13098145e-01,  1.57958984e-01,  1.18637085e-02,\n",
              "         -8.52661133e-02, -5.20019531e-02,  2.20031738e-02,  1.45912170e-03,\n",
              "          1.24023438e-01, -1.88140869e-02,  6.08215332e-02, -2.25524902e-02,\n",
              "          7.22045898e-02,  5.48095703e-02, -6.43310547e-02, -7.72094727e-02,\n",
              "         -7.91168213e-03,  4.77600098e-02,  1.65710449e-02,  6.17980957e-02,\n",
              "         -9.94873047e-02, -2.44598389e-02, -3.43322754e-02, -7.98034668e-03,\n",
              "          8.61206055e-02,  4.38537598e-02,  2.06184387e-03, -1.73187256e-02,\n",
              "          2.18658447e-02,  1.07543945e-01,  4.42504883e-02, -1.52053833e-02,\n",
              "         -5.05981445e-02,  5.28564453e-02,  6.51245117e-02, -5.69458008e-02,\n",
              "         -4.16870117e-02,  1.02539062e-01,  6.56127930e-02,  3.23181152e-02,\n",
              "         -2.93579102e-02,  4.88586426e-02, -2.90069580e-02,  6.64672852e-02,\n",
              "          4.02526855e-02, -1.14318848e-01, -9.42382812e-02, -2.15759277e-02,\n",
              "         -1.64184570e-01,  5.23986816e-02, -4.16564941e-03,  6.04553223e-02,\n",
              "         -1.03515625e-01,  6.50634766e-02, -2.64739990e-03,  6.83593750e-02,\n",
              "         -1.42456055e-01,  1.02615356e-02, -2.49099731e-03, -2.82478333e-03,\n",
              "         -2.60162354e-02,  1.21643066e-01,  3.16772461e-02, -3.03497314e-02,\n",
              "          3.69873047e-02,  4.73022461e-02, -1.07788086e-01,  8.06884766e-02,\n",
              "          8.06884766e-02,  7.37380981e-03,  5.59387207e-02,  4.41284180e-02,\n",
              "          6.50024414e-02,  3.66210938e-02,  2.39562988e-02, -1.08764648e-01,\n",
              "          6.61621094e-02, -2.03094482e-02,  2.45971680e-02, -2.52838135e-02,\n",
              "          1.00585938e-01,  4.61425781e-02,  5.87158203e-02,  3.36608887e-02],\n",
              "        dtype=float32), 'id': 'd285bd6e-abd4-4247-9224-2e860da280e1', '_distance': 0.8429579734802246}),\n",
              "  Document(page_content='27. Любой Элемент контроля (в том числе экзамен)2, может быть блокирующим. Если блокирующий Элемент контроля блокирует какую-то часть промежуточной оценки, то эта часть должна быть определена в ПУД при описании системы оценивания. 28.', metadata={'vector': array([-0.03277588,  0.06274414,  0.00203514,  0.05841064,  0.0574646 ,\n",
              "         -0.14099121,  0.10113525, -0.03108215, -0.01557922, -0.08483887,\n",
              "          0.06195068,  0.02355957,  0.03482056,  0.03536987, -0.06939697,\n",
              "         -0.03189087, -0.01731873, -0.00639343, -0.02528381, -0.02696228,\n",
              "          0.15734863, -0.01792908,  0.02987671, -0.03050232,  0.01511383,\n",
              "          0.05056763,  0.00710297, -0.08618164,  0.03283691, -0.05737305,\n",
              "         -0.11309814, -0.10754395, -0.09222412,  0.00566483, -0.01896667,\n",
              "          0.00145054,  0.01754761, -0.01141357, -0.03079224, -0.07940674,\n",
              "          0.02711487, -0.00078344,  0.04403687,  0.01091766, -0.02435303,\n",
              "          0.05102539,  0.02981567, -0.07250977, -0.06451416, -0.01385498,\n",
              "         -0.05905151,  0.04577637,  0.05151367,  0.10430908, -0.02203369,\n",
              "          0.140625  , -0.11175537,  0.0196228 , -0.04315186, -0.07928467,\n",
              "          0.01187134, -0.08441162,  0.0038681 , -0.02713013,  0.02148438,\n",
              "          0.05169678,  0.07940674,  0.03004456,  0.1829834 , -0.06408691,\n",
              "         -0.04244995,  0.05429077, -0.00254822,  0.05514526, -0.03408813,\n",
              "          0.00561905,  0.00076199, -0.01403046,  0.03634644, -0.02392578,\n",
              "         -0.07342529,  0.0848999 ,  0.11199951, -0.1237793 , -0.06634521,\n",
              "          0.04217529, -0.02799988,  0.01225281,  0.00764847, -0.08294678,\n",
              "          0.00066185,  0.13049316, -0.01161957, -0.02168274, -0.04321289,\n",
              "          0.09082031,  0.15222168, -0.13769531, -0.00226784, -0.05703735,\n",
              "          0.01450348,  0.03921509, -0.04095459,  0.12512207,  0.00233841,\n",
              "         -0.00809479, -0.00490952, -0.12164307,  0.00425339, -0.07189941,\n",
              "         -0.02990723,  0.00274467,  0.00858307,  0.06756592, -0.05209351,\n",
              "         -0.03616333, -0.04537964,  0.03283691,  0.0062561 , -0.03381348,\n",
              "         -0.02490234, -0.07696533, -0.03155518,  0.00736237, -0.15795898,\n",
              "          0.04153442, -0.01252747,  0.05151367,  0.00363731, -0.04058838,\n",
              "         -0.08374023,  0.02230835, -0.05038452, -0.04342651, -0.00814819,\n",
              "          0.03695679,  0.11181641,  0.03207397,  0.01506042,  0.01279449,\n",
              "          0.00585175,  0.0737915 ,  0.06939697, -0.02345276,  0.01216125,\n",
              "          0.06964111, -0.03387451, -0.00889587, -0.07348633,  0.10375977,\n",
              "         -0.16247559,  0.03411865, -0.04400635,  0.05148315, -0.05831909,\n",
              "          0.0014267 ,  0.07025146, -0.0645752 ,  0.04315186,  0.11425781,\n",
              "          0.0486145 , -0.07989502, -0.03405762, -0.00590515, -0.16174316,\n",
              "         -0.0236969 , -0.11846924,  0.00058174,  0.00489426, -0.00280952,\n",
              "         -0.04278564, -0.03102112,  0.02522278, -0.09265137,  0.10137939,\n",
              "          0.0241394 , -0.09936523, -0.01576233,  0.02360535, -0.0294342 ,\n",
              "          0.09973145, -0.08111572,  0.05844116, -0.00208664,  0.02087402,\n",
              "          0.0402832 , -0.0848999 , -0.03552246,  0.06719971, -0.00754929,\n",
              "         -0.02235413,  0.1229248 , -0.07513428, -0.01557159, -0.0703125 ,\n",
              "          0.00924683,  0.10693359, -0.06811523,  0.01799011, -0.04882812,\n",
              "          0.01786804,  0.06713867,  0.01275635,  0.01422882, -0.00405502,\n",
              "          0.06665039, -0.00056076, -0.0239563 , -0.08825684, -0.00775909,\n",
              "         -0.00991821,  0.06628418, -0.03155518,  0.03796387, -0.00491714,\n",
              "          0.05267334,  0.0317688 , -0.09466553, -0.06982422, -0.0171814 ,\n",
              "         -0.12988281,  0.07495117,  0.0008893 ,  0.07733154, -0.09680176,\n",
              "          0.10754395,  0.00317574,  0.02735901, -0.13122559,  0.06652832,\n",
              "         -0.00293922,  0.01803589, -0.04931641,  0.03192139,  0.04980469,\n",
              "          0.00827026,  0.04284668,  0.05725098, -0.06542969,  0.02719116,\n",
              "          0.10894775, -0.01508331,  0.07641602,  0.04141235,  0.06744385,\n",
              "          0.06182861,  0.01051331, -0.15600586,  0.06304932,  0.02093506,\n",
              "         -0.00029755, -0.00020075,  0.11352539, -0.00379372,  0.01930237,\n",
              "          0.0473938 ], dtype=float32), 'id': '80b16a87-ae02-4484-89b4-d7b7fde9d517', '_distance': 0.860561192035675}),\n",
              "  Document(page_content='Среди элементов контроля могут быть такие, которые повторить невозможно, их совокупный вес —\\xa0 не более 30 процентов. При получении по таким элементам низких оценок ничего улучшить нельзя. Типовой пример такого элемента контроля, который не повторяется, — учет посещаемости. Преподавателей, которые используют такой элемент контроля в своих программах дисциплин, — не более 15 процентов.', metadata={'vector': array([-0.05682373,  0.01994324, -0.01528931,  0.01960754,  0.06756592,\n",
              "         -0.13220215,  0.10424805, -0.02784729,  0.07800293, -0.02786255,\n",
              "          0.11499023, -0.01232147,  0.02116394,  0.07543945, -0.03674316,\n",
              "          0.00207901,  0.0006094 , -0.05197144, -0.05615234, -0.02078247,\n",
              "          0.07470703,  0.03601074,  0.04693604, -0.0425415 ,  0.02215576,\n",
              "          0.05780029, -0.04638672, -0.16369629,  0.03637695, -0.10083008,\n",
              "         -0.09197998, -0.10668945, -0.09643555, -0.00037837,  0.00572205,\n",
              "         -0.08215332,  0.06793213, -0.02256775,  0.0166626 , -0.04205322,\n",
              "          0.00275612, -0.04864502, -0.04025269,  0.06192017, -0.01800537,\n",
              "          0.1340332 ,  0.01198578, -0.00754547, -0.00287437,  0.06237793,\n",
              "         -0.03701782,  0.10400391,  0.08215332,  0.10046387,  0.04656982,\n",
              "          0.10900879, -0.04190063,  0.01823425, -0.0703125 , -0.03143311,\n",
              "          0.02363586, -0.08044434, -0.02737427, -0.081604  ,  0.03283691,\n",
              "          0.08355713,  0.08496094, -0.00855255,  0.23876953,  0.01927185,\n",
              "         -0.00786591,  0.07104492,  0.04208374,  0.09173584, -0.05450439,\n",
              "          0.00485229, -0.02580261, -0.06726074,  0.01467133, -0.03390503,\n",
              "         -0.12109375,  0.07781982,  0.14880371, -0.01895142, -0.07452393,\n",
              "         -0.00264359,  0.03219604, -0.01638794,  0.02430725, -0.08947754,\n",
              "         -0.00204086,  0.04827881, -0.03875732, -0.06640625, -0.04067993,\n",
              "          0.09643555,  0.14660645, -0.14953613, -0.0524292 , -0.06335449,\n",
              "         -0.02537537,  0.05072021, -0.02960205,  0.10205078, -0.00431061,\n",
              "          0.0300293 , -0.01056671, -0.0993042 ,  0.01131439, -0.03948975,\n",
              "         -0.02081299, -0.0085907 , -0.09002686,  0.08831787, -0.0803833 ,\n",
              "         -0.01580811, -0.04882812,  0.04382324, -0.02716064,  0.01130676,\n",
              "          0.04119873,  0.02583313,  0.02203369,  0.0451355 , -0.12316895,\n",
              "          0.0219574 , -0.0461731 ,  0.02484131, -0.04492188,  0.00090599,\n",
              "         -0.09362793,  0.02102661,  0.01509094, -0.1105957 , -0.04428101,\n",
              "          0.01676941,  0.07177734,  0.03710938,  0.02604675,  0.01092529,\n",
              "          0.00844574,  0.06097412, -0.01760864,  0.01011658,  0.0385437 ,\n",
              "          0.00613403, -0.02389526,  0.00255013, -0.06646729,  0.11132812,\n",
              "         -0.12322998,  0.00741577, -0.02589417,  0.09283447, -0.00128651,\n",
              "         -0.00575638,  0.02653503, -0.05599976,  0.01286316,  0.11199951,\n",
              "          0.01312256, -0.02139282, -0.05380249,  0.05822754, -0.05517578,\n",
              "         -0.03302002, -0.11920166,  0.0025444 ,  0.00035   , -0.06222534,\n",
              "          0.02536011, -0.01585388,  0.00846863, -0.0980835 ,  0.10418701,\n",
              "          0.00276756, -0.09179688,  0.02838135,  0.00366783, -0.01002502,\n",
              "          0.06439209, -0.00819397,  0.06451416,  0.04788208, -0.01768494,\n",
              "          0.01489258, -0.05102539, -0.02786255, -0.02478027,  0.0305481 ,\n",
              "          0.00793457,  0.07922363, -0.12670898,  0.02220154, -0.07965088,\n",
              "          0.0176239 ,  0.15820312, -0.0397644 , -0.04040527, -0.00538635,\n",
              "         -0.05453491, -0.0262146 ,  0.06033325, -0.07055664, -0.03659058,\n",
              "          0.06634521,  0.07647705, -0.03060913, -0.06896973,  0.01852417,\n",
              "         -0.0060997 ,  0.03134155,  0.06756592,  0.04415894, -0.06268311,\n",
              "          0.05474854, -0.01364136, -0.02915955, -0.05551147, -0.05203247,\n",
              "         -0.09509277,  0.00142956, -0.00208473,  0.03942871, -0.12493896,\n",
              "          0.08172607, -0.0284729 ,  0.00967407, -0.15405273,  0.08483887,\n",
              "         -0.05819702,  0.00171757, -0.11602783,  0.07293701,  0.02658081,\n",
              "         -0.02139282, -0.00964355,  0.01908875, -0.07000732,  0.00882721,\n",
              "          0.09960938, -0.01130676,  0.05789185,  0.0249939 ,  0.07727051,\n",
              "          0.04107666,  0.02252197, -0.13012695,  0.0526123 ,  0.00509262,\n",
              "          0.0513916 , -0.04470825,  0.0526123 ,  0.03039551, -0.00264359,\n",
              "          0.05212402], dtype=float32), 'id': '81c1b6e9-3987-4a70-97a1-7ee495e00917', '_distance': 0.9417560696601868}),\n",
              "  Document(page_content='Если по Дисциплине имеются блокирующие Элементы контроля, не относящиеся к экзаменам, которые проводятся менее чем за десять календарных дней до сессии, то их повторная сдача организуется до конца сессии. Оценка по промежуточной аттестации рассчитывается только после повторной сдачи таких Элементов. Порядок организации таких повторных сдач отражается в ПУД. Повторные сдачи по таким блокирующим Элементам проводятся по КИМам и технологии, аналогичным применяемым при первом проведении этого Элемента контроля. Порядок проведения таких повторных сдач во время сессии в случае потенциального конфликта с основным расписанием сессии регулируется пунктом 57 Положения. 32. Если у студента возникает неудовлетворительная оценка по Элементу контроля по Дисциплине, то она не может быть причиной недопуска к следующим Элементам контроля (включая экзамены) по этой Дисциплине, проводимым до окончания ближайшей сессии, в которую предусмотрена промежуточная аттестация по этой Дисциплине. 33. Преподаватель имеет право незначительно корректировать', metadata={'vector': array([-2.72827148e-02,  4.26025391e-02,  9.03320312e-03,  5.36346436e-03,\n",
              "          6.72607422e-02, -7.63549805e-02,  9.85107422e-02,  2.84576416e-03,\n",
              "          3.82804871e-03, -7.03125000e-02,  1.03149414e-01,  1.28021240e-02,\n",
              "         -9.42707062e-04,  8.09936523e-02, -5.97534180e-02, -2.09999084e-03,\n",
              "         -1.39312744e-02, -2.40631104e-02,  1.47628784e-02, -4.34494019e-03,\n",
              "          7.53173828e-02, -3.02734375e-02,  8.67919922e-02, -1.40838623e-02,\n",
              "         -6.98852539e-02,  6.17980957e-02,  1.58386230e-02, -9.74731445e-02,\n",
              "          7.06176758e-02, -7.48901367e-02, -1.06872559e-01, -8.81958008e-02,\n",
              "         -1.41601562e-01, -2.03704834e-02,  8.75091553e-03, -2.17742920e-02,\n",
              "          4.37316895e-02, -6.32324219e-02, -7.07397461e-02, -8.45336914e-02,\n",
              "          5.44433594e-02, -2.15148926e-02,  6.45141602e-02,  5.12390137e-02,\n",
              "         -6.91986084e-03,  1.00463867e-01,  5.16052246e-02, -4.71496582e-02,\n",
              "         -5.95397949e-02,  7.74536133e-02, -6.34155273e-02,  8.40759277e-03,\n",
              "          4.72717285e-02,  6.92749023e-02,  4.44641113e-02,  1.02050781e-01,\n",
              "         -9.57641602e-02, -1.55258179e-02,  5.99384308e-04,  4.30297852e-03,\n",
              "          6.02416992e-02,  3.02124023e-03, -1.81579590e-02, -6.48498535e-03,\n",
              "         -1.10397339e-02,  6.05773926e-02,  1.20605469e-01, -3.07159424e-02,\n",
              "          1.92626953e-01, -6.38427734e-02,  2.27050781e-02,  2.28729248e-02,\n",
              "         -5.59692383e-02,  6.13098145e-02, -2.51159668e-02,  3.90014648e-02,\n",
              "          7.27539062e-02, -5.37109375e-02,  8.33129883e-02, -5.94177246e-02,\n",
              "         -6.35375977e-02,  3.88793945e-02,  1.29760742e-01, -7.70874023e-02,\n",
              "         -2.05841064e-02,  6.48803711e-02, -2.92205811e-02,  1.25366211e-01,\n",
              "          5.68847656e-02, -9.74121094e-02,  4.84924316e-02,  1.02050781e-01,\n",
              "          1.79138184e-02, -4.48608398e-02, -2.27508545e-02,  6.91528320e-02,\n",
              "          1.37451172e-01, -7.30590820e-02, -7.01904297e-02, -2.78015137e-02,\n",
              "         -5.06877899e-04, -2.14385986e-02,  2.30026245e-03,  1.14135742e-01,\n",
              "         -4.26330566e-02,  5.04760742e-02, -2.92358398e-02, -1.16638184e-01,\n",
              "         -2.60314941e-02, -6.87255859e-02, -4.16564941e-02, -3.17993164e-02,\n",
              "         -2.91137695e-02,  2.26440430e-02, -1.17614746e-01, -2.16369629e-02,\n",
              "         -7.15942383e-02,  8.64868164e-02, -1.80664062e-02,  1.32369995e-02,\n",
              "         -9.52148438e-02,  1.24435425e-02,  4.37927246e-02, -9.26208496e-03,\n",
              "         -1.25976562e-01,  4.78820801e-02,  6.90841675e-03,  7.22503662e-03,\n",
              "         -2.14538574e-02, -4.62951660e-02, -2.08129883e-02,  5.47485352e-02,\n",
              "         -3.00445557e-02, -1.28906250e-01,  2.36206055e-02,  5.58471680e-02,\n",
              "          8.86840820e-02,  1.33361816e-02,  3.81164551e-02, -2.64129639e-02,\n",
              "          1.90582275e-02,  4.08630371e-02,  5.81359863e-02, -5.06286621e-02,\n",
              "          4.52880859e-02, -4.53491211e-02, -3.29284668e-02, -1.41906738e-02,\n",
              "         -7.51342773e-02,  5.61828613e-02, -1.50756836e-01, -2.25524902e-02,\n",
              "         -3.30810547e-02,  2.38647461e-02,  1.99737549e-02, -1.52969360e-02,\n",
              "          5.82275391e-02, -8.25195312e-02,  1.65100098e-02,  1.69921875e-01,\n",
              "          3.28369141e-02, -2.86865234e-02, -5.49316406e-02,  1.00791454e-04,\n",
              "         -7.62939453e-02,  1.83410645e-02, -5.07507324e-02,  1.77459717e-02,\n",
              "         -1.13754272e-02, -8.92333984e-02, -1.50527954e-02, -4.61120605e-02,\n",
              "          8.38012695e-02, -1.35253906e-01,  1.03149414e-01,  1.18484497e-02,\n",
              "         -6.85424805e-02, -2.83660889e-02,  1.52359009e-02,  2.22625732e-02,\n",
              "          1.34521484e-01, -4.80041504e-02,  6.24084473e-02, -3.08799744e-03,\n",
              "         -2.99224854e-02,  6.28051758e-02, -7.52563477e-02,  1.09786987e-02,\n",
              "         -1.69467926e-03,  9.63687897e-04,  2.27050781e-02,  1.37207031e-01,\n",
              "         -9.69238281e-02,  7.52639771e-03, -4.16564941e-02,  5.50842285e-02,\n",
              "          1.17370605e-01, -2.86560059e-02, -8.01086426e-03, -5.78308105e-02,\n",
              "          1.98364258e-03,  7.91015625e-02,  5.13305664e-02, -9.01794434e-03,\n",
              "         -2.99224854e-02,  9.10644531e-02,  5.61218262e-02, -5.21850586e-02,\n",
              "         -3.71398926e-02,  1.04187012e-01,  3.75061035e-02,  1.17568970e-02,\n",
              "          8.09478760e-03,  7.29370117e-02, -4.81567383e-02,  7.64160156e-02,\n",
              "          3.12042236e-02, -5.05676270e-02, -8.02001953e-02, -4.85839844e-02,\n",
              "         -1.34033203e-01,  3.97644043e-02,  1.57165527e-02,  6.01806641e-02,\n",
              "         -1.08459473e-01,  3.71093750e-02, -4.41360474e-03,  2.85034180e-02,\n",
              "         -1.24328613e-01,  8.06427002e-03,  4.21447754e-02, -2.28576660e-02,\n",
              "         -1.71966553e-02,  7.42797852e-02,  6.77871704e-03,  1.97601318e-03,\n",
              "          6.37817383e-03, -9.49096680e-03, -8.47167969e-02, -1.56097412e-02,\n",
              "          1.30004883e-01, -1.13449097e-02,  2.98156738e-02,  4.74548340e-02,\n",
              "          7.41577148e-02,  1.33132935e-02,  9.10949707e-03, -1.09680176e-01,\n",
              "          8.45336914e-02, -3.77273560e-03,  2.13928223e-02, -2.26287842e-02,\n",
              "          1.30981445e-01,  5.05447388e-03,  2.78015137e-02,  4.82482910e-02],\n",
              "        dtype=float32), 'id': '5afa76e6-26e6-4199-8c7f-622a6d24e042', '_distance': 0.9508408308029175})]]"
            ]
          },
          "metadata": {},
          "execution_count": 45
        }
      ]
    },
    {
      "cell_type": "code",
      "source": [
        "# Получите релевантные документы для одного запроса и выведите атрибуты первого документа\n",
        "example_query = queries[0]\n",
        "example_result = retriever.get_relevant_documents(example_query)\n",
        "if example_result:\n",
        "    first_doc = example_result[0]\n",
        "    print(dir(first_doc))  # Выводит все атрибуты объекта"
      ],
      "metadata": {
        "colab": {
          "base_uri": "https://localhost:8080/"
        },
        "id": "qF8czTxjg-nQ",
        "outputId": "dacc5aa1-82cd-47d5-968b-30218e943696"
      },
      "execution_count": null,
      "outputs": [
        {
          "output_type": "stream",
          "name": "stdout",
          "text": [
            "['Config', '__abstractmethods__', '__annotations__', '__class__', '__class_vars__', '__config__', '__custom_root_type__', '__delattr__', '__dict__', '__dir__', '__doc__', '__eq__', '__exclude_fields__', '__fields__', '__fields_set__', '__format__', '__ge__', '__get_validators__', '__getattribute__', '__getstate__', '__gt__', '__hash__', '__include_fields__', '__init__', '__init_subclass__', '__iter__', '__json_encoder__', '__le__', '__lt__', '__module__', '__ne__', '__new__', '__post_root_validators__', '__pre_root_validators__', '__pretty__', '__private_attributes__', '__reduce__', '__reduce_ex__', '__repr__', '__repr_args__', '__repr_name__', '__repr_str__', '__rich_repr__', '__schema_cache__', '__setattr__', '__setstate__', '__signature__', '__sizeof__', '__slots__', '__str__', '__subclasshook__', '__try_update_forward_refs__', '__validators__', '_abc_impl', '_calculate_keys', '_copy_and_set_values', '_decompose_class', '_enforce_dict_if_root', '_get_value', '_init_private_attributes', '_iter', '_lc_kwargs', 'construct', 'copy', 'dict', 'from_orm', 'get_lc_namespace', 'is_lc_serializable', 'json', 'lc_attributes', 'lc_id', 'lc_secrets', 'metadata', 'page_content', 'parse_file', 'parse_obj', 'parse_raw', 'schema', 'schema_json', 'to_json', 'to_json_not_implemented', 'type', 'update_forward_refs', 'validate']\n"
          ]
        }
      ]
    },
    {
      "cell_type": "code",
      "source": [
        "# Эталонные релевантные документы\n",
        "actual = [['ПОПАТКУС', 'doc_id2'], ['doc_id3', 'doc_id4'], ['doc_id5', 'doc_id6']]\n",
        "\n",
        "# Оценка с использованием MAP@k\n",
        "print(\"MAP@K:\", mapk(actual, predicted, k=5))"
      ],
      "metadata": {
        "colab": {
          "base_uri": "https://localhost:8080/"
        },
        "id": "5vsjJNefg7wq",
        "outputId": "d4cf30a3-bec1-4bc4-d157-ccf6fe75aabb"
      },
      "execution_count": null,
      "outputs": [
        {
          "output_type": "stream",
          "name": "stdout",
          "text": [
            "MAP@K: 0.0\n"
          ]
        }
      ]
    },
    {
      "cell_type": "markdown",
      "source": [
        "### MRR"
      ],
      "metadata": {
        "id": "lkL8SVtq7VxL"
      }
    },
    {
      "cell_type": "code",
      "source": [
        "def calculate_mrr(true_rank):\n",
        "    \"\"\" Вычисляет MRR по рангу первого правильного ответа \"\"\"\n",
        "    if true_rank is None:\n",
        "        return 0\n",
        "    return 1 / true_rank\n",
        "\n",
        "# Пример использования MRR\n",
        "rank_of_correct_answer = 3  # предположим, что правильный ответ на третьем месте\n",
        "mrr_score = calculate_mrr(rank_of_correct_answer)\n",
        "print(\"MRR:\", mrr_score)"
      ],
      "metadata": {
        "colab": {
          "base_uri": "https://localhost:8080/"
        },
        "id": "D1bJY8N87XlK",
        "outputId": "36c4d32c-5333-4194-bfac-ad5268706f42"
      },
      "execution_count": null,
      "outputs": [
        {
          "output_type": "stream",
          "name": "stdout",
          "text": [
            "MRR: 0.3333333333333333\n"
          ]
        }
      ]
    },
    {
      "cell_type": "markdown",
      "source": [
        "### DCG and NDCG"
      ],
      "metadata": {
        "id": "zDJuXW57CGJm"
      }
    },
    {
      "cell_type": "code",
      "source": [
        "import numpy as np\n",
        "\n",
        "def dcg(scores):\n",
        "    \"\"\" Вычисляет Discounted Cumulative Gain \"\"\"\n",
        "    return np.sum(scores / np.log2(np.arange(2, len(scores) + 2)))\n",
        "\n",
        "def ndcg(relevances, predictions):\n",
        "    \"\"\" Вычисляет NDCG метрику \"\"\"\n",
        "    true_relevances = np.array(relevances)[np.argsort(predictions)[::-1]]\n",
        "    ideal_dcg = dcg(sorted(relevances, reverse=True))\n",
        "    actual_dcg = dcg(true_relevances)\n",
        "    return actual_dcg / ideal_dcg if ideal_dcg > 0 else 0.0\n"
      ],
      "metadata": {
        "id": "L51RJNrC5jCi"
      },
      "execution_count": null,
      "outputs": []
    },
    {
      "cell_type": "markdown",
      "source": [
        "## Метрики расстояния"
      ],
      "metadata": {
        "id": "pqPyYNjn21dh"
      }
    },
    {
      "cell_type": "code",
      "source": [
        "actual_text = \"Согласно 'Положению об организации промежуточной аттестации и текущего контроля успеваемости студентов федерального государственного автономного образовательного учреждения высшего образования Национального исследовательского университета «Высшая школа экономики»' студент имеет право подать на аппеляцию результатов Элементов контроля (включая пересдачи), объявленных в ПУД блокирующими и (или) экзаменов, за исключением случаев, когда результат по вышеуказанным Элементам контроля составляет 8 баллов и выше.  Так как Ваша оценка 9  выше 8 баллов, то, к сожалению, согласно регламенту Вы не сможете подать аппеляцию.\"\n",
        "predicted_text = answer('Могу ли я подать аппеляцию если моя оценка 9?').replace('\\n', '').replace('*', '')"
      ],
      "metadata": {
        "id": "L-QhbBnUcCgh"
      },
      "execution_count": null,
      "outputs": []
    },
    {
      "cell_type": "code",
      "source": [
        "predicted_text"
      ],
      "metadata": {
        "colab": {
          "base_uri": "https://localhost:8080/",
          "height": 157
        },
        "id": "j6Iwn6BaIxTB",
        "outputId": "eaec0d57-7af1-42b5-c2c4-103d7b98ef12"
      },
      "execution_count": null,
      "outputs": [
        {
          "output_type": "execute_result",
          "data": {
            "text/plain": [
              "'Исходя из предоставленных данных, студент имеет право подать апелляцию, если его оценка ниже 8 баллов и он не удовлетворён её качеством. Если оценка студента составляет 9 баллов, то, согласно предоставленному тексту, у него нет оснований подавать апелляцию.Исходя из ограничений текста, можно предположить, что это максимально возможная оценка, и она не может считаться блокирующей для каких-либо дальнейших действий. Однако это предположение верно только в рамках данного текста и контекста, поэтому мы рекомендуем в этом вопросе обратиться к вашему учебному заведению и уточнить конкретную информацию о процедуре и возможных действиях в вашей конкретной ситуации.Также из информации, предоставленной в тексте, неясно, какая ситуация может возникнуть, если оценка студента выше 8 баллов, но у него есть неудовлетворённость её качеством, так же как и на счет того, будут ли какие-либо возможности или процедуры для рассмотрения таких обращений в этих случаях. Так что вам также может потребоваться дополнительная информация, связываясь с вашим учебным заведением.'"
            ],
            "application/vnd.google.colaboratory.intrinsic+json": {
              "type": "string"
            }
          },
          "metadata": {},
          "execution_count": 82
        }
      ]
    },
    {
      "cell_type": "markdown",
      "source": [
        "### Cosine similarity"
      ],
      "metadata": {
        "id": "scbvYBaETlJl"
      }
    },
    {
      "cell_type": "code",
      "source": [
        "from sklearn.metrics.pairwise import cosine_similarity\n",
        "from sklearn.feature_extraction.text import TfidfVectorizer\n",
        "\n",
        "# Пример с косинусным расстоянием\n",
        "vectorizer = TfidfVectorizer()\n",
        "tfidf = vectorizer.fit_transform([predicted_text, actual_text])\n",
        "cosine_sim = cosine_similarity(tfidf[0:1], tfidf[1:2])\n",
        "\n",
        "print(\"Косинусное сходство:\", cosine_sim)"
      ],
      "metadata": {
        "id": "Jbh1R4CXTe8n",
        "colab": {
          "base_uri": "https://localhost:8080/"
        },
        "outputId": "90715d41-2249-42a7-8782-c065fd7817fc"
      },
      "execution_count": null,
      "outputs": [
        {
          "output_type": "stream",
          "name": "stdout",
          "text": [
            "Косинусное сходство: [[0.12920496]]\n"
          ]
        }
      ]
    },
    {
      "cell_type": "markdown",
      "source": [
        "### Levenshtein distance"
      ],
      "metadata": {
        "id": "3z82DPyi9R01"
      }
    },
    {
      "cell_type": "code",
      "source": [
        "import numpy as np\n",
        "\n",
        "def levenshtein_distance(s1, s2):\n",
        "    if len(s1) > len(s2):\n",
        "        s1, s2 = s2, s1\n",
        "\n",
        "    distances = np.arange(len(s1) + 1)\n",
        "    for index2, char2 in enumerate(s2):\n",
        "        new_distances = [index2 + 1]\n",
        "        for index1, char1 in enumerate(s1):\n",
        "            if char1 == char2:\n",
        "                new_distances.append(distances[index1])\n",
        "            else:\n",
        "                new_distances.append(1 + min((distances[index1], distances[index1 + 1], new_distances[-1])))\n",
        "        distances = new_distances\n",
        "    return distances[-1]\n",
        "\n",
        "levenshtein_distance(predicted_text, actual_text)"
      ],
      "metadata": {
        "id": "B9QNZOSQbPUR",
        "colab": {
          "base_uri": "https://localhost:8080/"
        },
        "outputId": "361214fb-1ac3-46f6-abf1-91ebb8e11195"
      },
      "execution_count": null,
      "outputs": [
        {
          "output_type": "execute_result",
          "data": {
            "text/plain": [
              "798"
            ]
          },
          "metadata": {},
          "execution_count": 84
        }
      ]
    },
    {
      "cell_type": "code",
      "source": [
        "len(actual_text)"
      ],
      "metadata": {
        "colab": {
          "base_uri": "https://localhost:8080/"
        },
        "id": "pZhSV3WB-C0u",
        "outputId": "ea7eca1d-459f-4c03-8222-d29bbc069555"
      },
      "execution_count": null,
      "outputs": [
        {
          "output_type": "execute_result",
          "data": {
            "text/plain": [
              "618"
            ]
          },
          "metadata": {},
          "execution_count": 85
        }
      ]
    },
    {
      "cell_type": "code",
      "source": [
        "len(predicted_text)"
      ],
      "metadata": {
        "colab": {
          "base_uri": "https://localhost:8080/"
        },
        "id": "xTL3oIua-FDq",
        "outputId": "82b38958-c04b-4681-c87b-7cb3ee4d832c"
      },
      "execution_count": null,
      "outputs": [
        {
          "output_type": "execute_result",
          "data": {
            "text/plain": [
              "1063"
            ]
          },
          "metadata": {},
          "execution_count": 86
        }
      ]
    },
    {
      "cell_type": "markdown",
      "source": [
        "### Euclidian distance"
      ],
      "metadata": {
        "id": "OW0HL8CGBMEA"
      }
    },
    {
      "cell_type": "code",
      "source": [
        "def euclidean_distance(v1, v2):\n",
        "    return np.sqrt(np.sum((np.array(v1) - np.array(v2))**2))"
      ],
      "metadata": {
        "id": "ttvp_bVQBQIi"
      },
      "execution_count": null,
      "outputs": []
    },
    {
      "cell_type": "code",
      "source": [
        "from sklearn.feature_extraction.text import TfidfVectorizer\n",
        "from sklearn.metrics.pairwise import euclidean_distances\n",
        "import numpy as np\n",
        "\n",
        "vectorizer = TfidfVectorizer()\n",
        "tfidf_vectors = vectorizer.fit_transform([predicted_text, actual_text])\n",
        "\n",
        "# Вычисление евклидова расстояния между первым и вторым текстом\n",
        "distance = euclidean_distances(tfidf_vectors[0], tfidf_vectors[1])\n",
        "\n",
        "print(\"Euclidian distance:\", distance[0][0])"
      ],
      "metadata": {
        "colab": {
          "base_uri": "https://localhost:8080/"
        },
        "id": "ELeyDI81NXRQ",
        "outputId": "d1bdfa3a-f892-48f8-b9fd-7b0e5fe870e1"
      },
      "execution_count": null,
      "outputs": [
        {
          "output_type": "stream",
          "name": "stdout",
          "text": [
            "Euclidian distance: 1.319693177941614\n"
          ]
        }
      ]
    },
    {
      "cell_type": "markdown",
      "source": [
        "### Jaccard similarity"
      ],
      "metadata": {
        "id": "ja6JN5B4BYJ_"
      }
    },
    {
      "cell_type": "code",
      "source": [
        "def jaccard_similarity(s1, s2):\n",
        "    set1, set2 = set(s1), set(s2)\n",
        "    intersection = len(set1 & set2)\n",
        "    union = len(set1 | set2)\n",
        "    return intersection / union\n",
        "\n",
        "jaccard_similarity(predicted_text, actual_text)"
      ],
      "metadata": {
        "colab": {
          "base_uri": "https://localhost:8080/"
        },
        "id": "ODWLYR37BZ5x",
        "outputId": "efc93f58-1040-4afa-dd33-9bf8fd951701"
      },
      "execution_count": null,
      "outputs": [
        {
          "output_type": "execute_result",
          "data": {
            "text/plain": [
              "0.6727272727272727"
            ]
          },
          "metadata": {},
          "execution_count": 89
        }
      ]
    },
    {
      "cell_type": "markdown",
      "source": [
        "## LLM-based metrics"
      ],
      "metadata": {
        "id": "DWyJn0_L5jt8"
      }
    },
    {
      "cell_type": "code",
      "source": [
        "predicted_text_1 = predicted_text\n",
        "predicted_text_2 = answer('Когда могут поставить независимый экзамен по английскому языку? ')\n",
        "predicted_text_3 = answer('Возможно ли сдать независимый экзамен раньше?')\n",
        "\n",
        "actual_text_1 = actual_text\n",
        "actual_text_2 = 'Независимые экзамены могут проводиться не только в сессию. Сроки проведения независимых экзаменов, резервные дни и порядок пересдачи устанавливаются соответствующими локальными нормативными актами.'\n",
        "actual_text_3 = 'Да, Вы можете в инициативном порядке пройти независимые экзамены раньше, чем предусмотрено учебным планом при наличии свободных периодов для записи на независимые экзамены'"
      ],
      "metadata": {
        "id": "eaDsKuN3P5h6"
      },
      "execution_count": null,
      "outputs": []
    },
    {
      "cell_type": "code",
      "source": [
        "predicted_text_2"
      ],
      "metadata": {
        "colab": {
          "base_uri": "https://localhost:8080/",
          "height": 122
        },
        "id": "0rzAieWaU9VK",
        "outputId": "5ba8fc15-9660-48bc-d690-3544b278e1bb"
      },
      "execution_count": null,
      "outputs": [
        {
          "output_type": "execute_result",
          "data": {
            "text/plain": [
              "'Из предоставленного текста можно сделать вывод, что независимый экзамен по английскому языку может быть проведён:\\n\\n* **В период сессии**, предусмотренной учебным планом образовательной программы студента.\\n* **Вне сессии**. В этом случае порядок проведения, сроки и возможность пересдачи этого экзамена устанавливаются локальными нормативными правовыми актами. Согласно тексту, можно **инициировать досрочное прохождение экзамена** в случае наличия свободных мест для записи.\\nСледует уточнить, что предоставленный текст описывает особенности организации независимого экзамена и его проведения в НИУ ВШЭ. Правила и требования для сдачи могут различаться в зависимости от университета и учебной программы.'"
            ],
            "application/vnd.google.colaboratory.intrinsic+json": {
              "type": "string"
            }
          },
          "metadata": {},
          "execution_count": 91
        }
      ]
    },
    {
      "cell_type": "code",
      "source": [
        "predicted_text_3"
      ],
      "metadata": {
        "colab": {
          "base_uri": "https://localhost:8080/",
          "height": 122
        },
        "id": "b8qpE1pBU-3p",
        "outputId": "d851f767-7a35-408b-f78b-69d4bed8daca"
      },
      "execution_count": null,
      "outputs": [
        {
          "output_type": "execute_result",
          "data": {
            "text/plain": [
              "'На основе предоставленной информации можно ответить, что студент не может сдать дисциплину ранее установленного срока пересдачи.\\n\\nСогласно предоставленному тексту до конца пересдач необходимо предоставить заново изученную дисциплину.  Это относится ко всем уже перенесённым дисциплинам предыдущего учебного периода, которые не были сданы во время первой попытки. \\n\\nСтудент самостоятельно принимает решение о времени сдачи дисциплины. Он может отложить пересдачу, тем самым стремясь изучить усложнённую дисциплину более углублённо. Или воспользоваться возможностью досрочной сдачи, но только после повторной отработки и изучения дисциплины в соответствии с новым учебным периодом переподготовки.'"
            ],
            "application/vnd.google.colaboratory.intrinsic+json": {
              "type": "string"
            }
          },
          "metadata": {},
          "execution_count": 92
        }
      ]
    },
    {
      "cell_type": "code",
      "source": [
        "hypotheses = [predicted_text_1, predicted_text_2, predicted_text_3]\n",
        "references = [actual_text_1, actual_text_2, actual_text_3]"
      ],
      "metadata": {
        "id": "ITuMHhBgXcf6"
      },
      "execution_count": null,
      "outputs": []
    },
    {
      "cell_type": "markdown",
      "source": [
        "### Rouge\n",
        "\n"
      ],
      "metadata": {
        "id": "6SdQ-JVuPLNi"
      }
    },
    {
      "cell_type": "code",
      "source": [
        "# !pip install rouge\n",
        "from rouge import Rouge\n",
        "\n",
        "def evaluate_rouge(hypothesis, reference):\n",
        "    rouge = Rouge()\n",
        "    return rouge.get_scores(hypothesis, reference, avg=True)\n",
        "\n",
        "evaluate_rouge(hypotheses, references)"
      ],
      "metadata": {
        "colab": {
          "base_uri": "https://localhost:8080/"
        },
        "id": "DfSzVLEDOuxR",
        "outputId": "afa31ede-a64d-48ff-8408-d48a690d79e7"
      },
      "execution_count": null,
      "outputs": [
        {
          "output_type": "execute_result",
          "data": {
            "text/plain": [
              "{'rouge-1': {'r': 0.2842712842712843,\n",
              "  'p': 0.1063935244615604,\n",
              "  'f': 0.1517752644561367},\n",
              " 'rouge-2': {'r': 0.052402696238312674,\n",
              "  'p': 0.022096257807169475,\n",
              "  'f': 0.030525957223984143},\n",
              " 'rouge-l': {'r': 0.25901875901875904,\n",
              "  'p': 0.09658750534873771,\n",
              "  'f': 0.13791786964636096}}"
            ]
          },
          "metadata": {},
          "execution_count": 94
        }
      ]
    },
    {
      "cell_type": "markdown",
      "source": [
        "### Bert score\n"
      ],
      "metadata": {
        "id": "gAPeHiuhP7_p"
      }
    },
    {
      "cell_type": "code",
      "source": [
        "# !pip install bert_score\n",
        "from bert_score import score\n",
        "\n",
        "def evaluate_bert_score(hypotheses, references, lang='ru'):\n",
        "    P, R, F1 = score(hypotheses, references, lang=lang, rescale_with_baseline=True)\n",
        "    return P.mean(), R.mean(), F1.mean()"
      ],
      "metadata": {
        "id": "KVx0ueG1PX9u"
      },
      "execution_count": null,
      "outputs": []
    },
    {
      "cell_type": "code",
      "source": [
        "bert_scores = evaluate_bert_score(hypotheses, references, lang='ru')\n",
        "print(\"Precision:\", bert_scores[0])\n",
        "print(\"Recall:\", bert_scores[1])\n",
        "print(\"F1 Score:\", bert_scores[2])"
      ],
      "metadata": {
        "colab": {
          "base_uri": "https://localhost:8080/"
        },
        "id": "-PQ8WMZBTAeF",
        "outputId": "87b60e7e-61e3-4adf-e9a1-d734af399ea5"
      },
      "execution_count": null,
      "outputs": [
        {
          "output_type": "stream",
          "name": "stdout",
          "text": [
            "Precision: tensor(0.6546)\n",
            "Recall: tensor(0.7580)\n",
            "F1 Score: tensor(0.7021)\n"
          ]
        },
        {
          "output_type": "stream",
          "name": "stderr",
          "text": [
            "Warning: Baseline not Found for bert-base-multilingual-cased on ru at /usr/local/lib/python3.10/dist-packages/bert_score/rescale_baseline/ru/bert-base-multilingual-cased.tsv\n"
          ]
        }
      ]
    }
  ]
}